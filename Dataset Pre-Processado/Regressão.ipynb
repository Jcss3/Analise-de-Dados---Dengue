{
 "cells": [
  {
   "cell_type": "markdown",
   "metadata": {},
   "source": [
    "### Bibliotecas Úteis "
   ]
  },
  {
   "cell_type": "code",
   "execution_count": 89,
   "metadata": {},
   "outputs": [],
   "source": [
    "import pandas as pd\n",
    "import numpy as np\n",
    "import seaborn as sns\n",
    "from seaborn import color_palette\n",
    "import matplotlib.pyplot as plt\n",
    "import matplotlib\n",
    "matplotlib.style.use('ggplot')\n",
    "\n",
    "import statsmodels.formula.api as smf\n",
    "import statsmodels.api as sm\n",
    "\n",
    "from sklearn.linear_model import LogisticRegression, LogisticRegressionCV\n",
    "from sklearn.metrics import accuracy_score, recall_score\n",
    "\n",
    "%matplotlib inline"
   ]
  },
  {
   "cell_type": "markdown",
   "metadata": {},
   "source": [
    "### Leitura dos Dados"
   ]
  },
  {
   "cell_type": "code",
   "execution_count": 90,
   "metadata": {},
   "outputs": [
    {
     "name": "stdout",
     "output_type": "stream",
     "text": [
      "(61370, 89)\n"
     ]
    },
    {
     "data": {
      "text/html": [
       "<div>\n",
       "<style scoped>\n",
       "    .dataframe tbody tr th:only-of-type {\n",
       "        vertical-align: middle;\n",
       "    }\n",
       "\n",
       "    .dataframe tbody tr th {\n",
       "        vertical-align: top;\n",
       "    }\n",
       "\n",
       "    .dataframe thead th {\n",
       "        text-align: right;\n",
       "    }\n",
       "</style>\n",
       "<table border=\"1\" class=\"dataframe\">\n",
       "  <thead>\n",
       "    <tr style=\"text-align: right;\">\n",
       "      <th></th>\n",
       "      <th>_id</th>\n",
       "      <th>dt_notificacao</th>\n",
       "      <th>co_uf_notificacao</th>\n",
       "      <th>co_municipio_notificacao</th>\n",
       "      <th>co_unidade_notificacao</th>\n",
       "      <th>dt_diagnostico_sintoma</th>\n",
       "      <th>dt_nascimento</th>\n",
       "      <th>tp_sexo</th>\n",
       "      <th>tp_gestante</th>\n",
       "      <th>tp_raca_cor</th>\n",
       "      <th>...</th>\n",
       "      <th>diabetes</th>\n",
       "      <th>hematolog</th>\n",
       "      <th>hepatopat</th>\n",
       "      <th>renal</th>\n",
       "      <th>hipertensao</th>\n",
       "      <th>acido_pept</th>\n",
       "      <th>auto_imune</th>\n",
       "      <th>notificao_dias</th>\n",
       "      <th>idade</th>\n",
       "      <th>caso_internacao</th>\n",
       "    </tr>\n",
       "  </thead>\n",
       "  <tbody>\n",
       "    <tr>\n",
       "      <th>0</th>\n",
       "      <td>ObjectId(\"5ce365969db9b8440471220e\")</td>\n",
       "      <td>2014/01/17 00:00:00</td>\n",
       "      <td>26.0</td>\n",
       "      <td>261160.0</td>\n",
       "      <td>6481876.0</td>\n",
       "      <td>2013/02/25 00:00:00</td>\n",
       "      <td>2010/08/23 00:00:00</td>\n",
       "      <td>M</td>\n",
       "      <td>6.0</td>\n",
       "      <td>9.0</td>\n",
       "      <td>...</td>\n",
       "      <td>2.0</td>\n",
       "      <td>2.0</td>\n",
       "      <td>2.0</td>\n",
       "      <td>2.0</td>\n",
       "      <td>2.0</td>\n",
       "      <td>2.0</td>\n",
       "      <td>2.0</td>\n",
       "      <td>334.0</td>\n",
       "      <td>2.0</td>\n",
       "      <td>SIM</td>\n",
       "    </tr>\n",
       "    <tr>\n",
       "      <th>1</th>\n",
       "      <td>ObjectId(\"5ce365969db9b8440471220f\")</td>\n",
       "      <td>2014/04/10 00:00:00</td>\n",
       "      <td>26.0</td>\n",
       "      <td>261160.0</td>\n",
       "      <td>20516.0</td>\n",
       "      <td>2013/04/07 00:00:00</td>\n",
       "      <td>2000/06/10 00:00:00</td>\n",
       "      <td>F</td>\n",
       "      <td>9.0</td>\n",
       "      <td>9.0</td>\n",
       "      <td>...</td>\n",
       "      <td>2.0</td>\n",
       "      <td>2.0</td>\n",
       "      <td>2.0</td>\n",
       "      <td>2.0</td>\n",
       "      <td>2.0</td>\n",
       "      <td>2.0</td>\n",
       "      <td>2.0</td>\n",
       "      <td>365.0</td>\n",
       "      <td>12.0</td>\n",
       "      <td>SIM</td>\n",
       "    </tr>\n",
       "    <tr>\n",
       "      <th>2</th>\n",
       "      <td>ObjectId(\"5ce365969db9b84404712210\")</td>\n",
       "      <td>2014/01/07 00:00:00</td>\n",
       "      <td>26.0</td>\n",
       "      <td>261160.0</td>\n",
       "      <td>2802783.0</td>\n",
       "      <td>2013/09/08 00:00:00</td>\n",
       "      <td>1990/11/11 00:00:00</td>\n",
       "      <td>M</td>\n",
       "      <td>6.0</td>\n",
       "      <td>4.0</td>\n",
       "      <td>...</td>\n",
       "      <td>2.0</td>\n",
       "      <td>2.0</td>\n",
       "      <td>2.0</td>\n",
       "      <td>2.0</td>\n",
       "      <td>2.0</td>\n",
       "      <td>2.0</td>\n",
       "      <td>2.0</td>\n",
       "      <td>122.0</td>\n",
       "      <td>22.0</td>\n",
       "      <td>SIM</td>\n",
       "    </tr>\n",
       "    <tr>\n",
       "      <th>3</th>\n",
       "      <td>ObjectId(\"5ce365969db9b84404712211\")</td>\n",
       "      <td>2014/01/07 00:00:00</td>\n",
       "      <td>26.0</td>\n",
       "      <td>261160.0</td>\n",
       "      <td>6726852.0</td>\n",
       "      <td>2013/11/04 00:00:00</td>\n",
       "      <td>2009/04/10 00:00:00</td>\n",
       "      <td>F</td>\n",
       "      <td>6.0</td>\n",
       "      <td>9.0</td>\n",
       "      <td>...</td>\n",
       "      <td>2.0</td>\n",
       "      <td>2.0</td>\n",
       "      <td>2.0</td>\n",
       "      <td>2.0</td>\n",
       "      <td>2.0</td>\n",
       "      <td>2.0</td>\n",
       "      <td>2.0</td>\n",
       "      <td>61.0</td>\n",
       "      <td>4.0</td>\n",
       "      <td>SIM</td>\n",
       "    </tr>\n",
       "    <tr>\n",
       "      <th>4</th>\n",
       "      <td>ObjectId(\"5ce365969db9b84404712212\")</td>\n",
       "      <td>2014/01/17 00:00:00</td>\n",
       "      <td>26.0</td>\n",
       "      <td>261160.0</td>\n",
       "      <td>6481876.0</td>\n",
       "      <td>2013/11/05 00:00:00</td>\n",
       "      <td>1967/07/28 00:00:00</td>\n",
       "      <td>F</td>\n",
       "      <td>9.0</td>\n",
       "      <td>9.0</td>\n",
       "      <td>...</td>\n",
       "      <td>2.0</td>\n",
       "      <td>2.0</td>\n",
       "      <td>2.0</td>\n",
       "      <td>2.0</td>\n",
       "      <td>2.0</td>\n",
       "      <td>2.0</td>\n",
       "      <td>2.0</td>\n",
       "      <td>61.0</td>\n",
       "      <td>46.0</td>\n",
       "      <td>SIM</td>\n",
       "    </tr>\n",
       "  </tbody>\n",
       "</table>\n",
       "<p>5 rows × 89 columns</p>\n",
       "</div>"
      ],
      "text/plain": [
       "                                    _id       dt_notificacao  \\\n",
       "0  ObjectId(\"5ce365969db9b8440471220e\")  2014/01/17 00:00:00   \n",
       "1  ObjectId(\"5ce365969db9b8440471220f\")  2014/04/10 00:00:00   \n",
       "2  ObjectId(\"5ce365969db9b84404712210\")  2014/01/07 00:00:00   \n",
       "3  ObjectId(\"5ce365969db9b84404712211\")  2014/01/07 00:00:00   \n",
       "4  ObjectId(\"5ce365969db9b84404712212\")  2014/01/17 00:00:00   \n",
       "\n",
       "   co_uf_notificacao  co_municipio_notificacao  co_unidade_notificacao  \\\n",
       "0               26.0                  261160.0               6481876.0   \n",
       "1               26.0                  261160.0                 20516.0   \n",
       "2               26.0                  261160.0               2802783.0   \n",
       "3               26.0                  261160.0               6726852.0   \n",
       "4               26.0                  261160.0               6481876.0   \n",
       "\n",
       "  dt_diagnostico_sintoma        dt_nascimento tp_sexo  tp_gestante  \\\n",
       "0    2013/02/25 00:00:00  2010/08/23 00:00:00       M          6.0   \n",
       "1    2013/04/07 00:00:00  2000/06/10 00:00:00       F          9.0   \n",
       "2    2013/09/08 00:00:00  1990/11/11 00:00:00       M          6.0   \n",
       "3    2013/11/04 00:00:00  2009/04/10 00:00:00       F          6.0   \n",
       "4    2013/11/05 00:00:00  1967/07/28 00:00:00       F          9.0   \n",
       "\n",
       "   tp_raca_cor       ...         diabetes  hematolog  hepatopat  renal  \\\n",
       "0          9.0       ...              2.0        2.0        2.0    2.0   \n",
       "1          9.0       ...              2.0        2.0        2.0    2.0   \n",
       "2          4.0       ...              2.0        2.0        2.0    2.0   \n",
       "3          9.0       ...              2.0        2.0        2.0    2.0   \n",
       "4          9.0       ...              2.0        2.0        2.0    2.0   \n",
       "\n",
       "   hipertensao acido_pept  auto_imune notificao_dias  idade  caso_internacao  \n",
       "0          2.0        2.0         2.0          334.0    2.0              SIM  \n",
       "1          2.0        2.0         2.0          365.0   12.0              SIM  \n",
       "2          2.0        2.0         2.0          122.0   22.0              SIM  \n",
       "3          2.0        2.0         2.0           61.0    4.0              SIM  \n",
       "4          2.0        2.0         2.0           61.0   46.0              SIM  \n",
       "\n",
       "[5 rows x 89 columns]"
      ]
     },
     "execution_count": 90,
     "metadata": {},
     "output_type": "execute_result"
    }
   ],
   "source": [
    "dados = pd.read_csv('dengue_pre_proc.csv',low_memory=False)\n",
    "print(dados.shape)\n",
    "dados.head()"
   ]
  },
  {
   "cell_type": "code",
   "execution_count": 91,
   "metadata": {},
   "outputs": [],
   "source": [
    "##dados.columns\n",
    "dadosVariaveis = dados[['_id','febre', 'mialgia', 'cefaleia', 'exantema', 'vomito', 'nausea','dor_costas', 'conjutivite', 'artrite', 'artralgia', 'petequia_n','leucopenia', 'laco', 'dor_retro', 'diabetes', 'hematolog', 'hepatopat','renal', 'hipertensao', 'acido_pept', 'auto_imune','idade', 'caso_internacao']]"
   ]
  },
  {
   "cell_type": "code",
   "execution_count": 92,
   "metadata": {},
   "outputs": [
    {
     "data": {
      "text/plain": [
       "(61370, 24)"
      ]
     },
     "execution_count": 92,
     "metadata": {},
     "output_type": "execute_result"
    }
   ],
   "source": [
    "# 23 variaveis - uma dependente e o resto independente\n",
    "dadosVariaveis.shape"
   ]
  },
  {
   "cell_type": "code",
   "execution_count": 93,
   "metadata": {},
   "outputs": [
    {
     "name": "stdout",
     "output_type": "stream",
     "text": [
      "Index(['_id', 'febre', 'mialgia', 'cefaleia', 'exantema', 'vomito', 'nausea',\n",
      "       'dor_costas', 'conjutivite', 'artrite', 'artralgia', 'petequia_n',\n",
      "       'leucopenia', 'laco', 'dor_retro', 'diabetes', 'hematolog', 'hepatopat',\n",
      "       'renal', 'hipertensao', 'acido_pept', 'auto_imune', 'idade',\n",
      "       'caso_internacao'],\n",
      "      dtype='object')\n"
     ]
    }
   ],
   "source": [
    "dadosVariaveis.head()\n",
    "print(dadosVariaveis.columns)"
   ]
  },
  {
   "cell_type": "code",
   "execution_count": 94,
   "metadata": {},
   "outputs": [
    {
     "data": {
      "text/plain": [
       "NAO    49373\n",
       "SIM    11995\n",
       "Name: caso_internacao, dtype: int64"
      ]
     },
     "execution_count": 94,
     "metadata": {},
     "output_type": "execute_result"
    }
   ],
   "source": [
    "dadosVariaveis.caso_internacao.value_counts()"
   ]
  },
  {
   "cell_type": "markdown",
   "metadata": {},
   "source": [
    "   ### Escolhendo subset de Treino"
   ]
  },
  {
   "cell_type": "code",
   "execution_count": 95,
   "metadata": {},
   "outputs": [],
   "source": [
    "#for linha in dadosVariaveis:\n",
    "   # dadosVariaveis['Treino'] = None"
   ]
  },
  {
   "cell_type": "code",
   "execution_count": 96,
   "metadata": {},
   "outputs": [
    {
     "data": {
      "text/html": [
       "<div>\n",
       "<style scoped>\n",
       "    .dataframe tbody tr th:only-of-type {\n",
       "        vertical-align: middle;\n",
       "    }\n",
       "\n",
       "    .dataframe tbody tr th {\n",
       "        vertical-align: top;\n",
       "    }\n",
       "\n",
       "    .dataframe thead th {\n",
       "        text-align: right;\n",
       "    }\n",
       "</style>\n",
       "<table border=\"1\" class=\"dataframe\">\n",
       "  <thead>\n",
       "    <tr style=\"text-align: right;\">\n",
       "      <th></th>\n",
       "      <th>_id</th>\n",
       "      <th>febre</th>\n",
       "      <th>mialgia</th>\n",
       "      <th>cefaleia</th>\n",
       "      <th>exantema</th>\n",
       "      <th>vomito</th>\n",
       "      <th>nausea</th>\n",
       "      <th>dor_costas</th>\n",
       "      <th>conjutivite</th>\n",
       "      <th>artrite</th>\n",
       "      <th>...</th>\n",
       "      <th>dor_retro</th>\n",
       "      <th>diabetes</th>\n",
       "      <th>hematolog</th>\n",
       "      <th>hepatopat</th>\n",
       "      <th>renal</th>\n",
       "      <th>hipertensao</th>\n",
       "      <th>acido_pept</th>\n",
       "      <th>auto_imune</th>\n",
       "      <th>idade</th>\n",
       "      <th>caso_internacao</th>\n",
       "    </tr>\n",
       "  </thead>\n",
       "  <tbody>\n",
       "    <tr>\n",
       "      <th>0</th>\n",
       "      <td>ObjectId(\"5ce365969db9b8440471220e\")</td>\n",
       "      <td>2.0</td>\n",
       "      <td>2.0</td>\n",
       "      <td>2.0</td>\n",
       "      <td>2.0</td>\n",
       "      <td>2.0</td>\n",
       "      <td>2.0</td>\n",
       "      <td>2.0</td>\n",
       "      <td>2.0</td>\n",
       "      <td>2.0</td>\n",
       "      <td>...</td>\n",
       "      <td>2.0</td>\n",
       "      <td>2.0</td>\n",
       "      <td>2.0</td>\n",
       "      <td>2.0</td>\n",
       "      <td>2.0</td>\n",
       "      <td>2.0</td>\n",
       "      <td>2.0</td>\n",
       "      <td>2.0</td>\n",
       "      <td>2.0</td>\n",
       "      <td>SIM</td>\n",
       "    </tr>\n",
       "    <tr>\n",
       "      <th>1</th>\n",
       "      <td>ObjectId(\"5ce365969db9b8440471220f\")</td>\n",
       "      <td>2.0</td>\n",
       "      <td>2.0</td>\n",
       "      <td>2.0</td>\n",
       "      <td>2.0</td>\n",
       "      <td>2.0</td>\n",
       "      <td>2.0</td>\n",
       "      <td>2.0</td>\n",
       "      <td>2.0</td>\n",
       "      <td>2.0</td>\n",
       "      <td>...</td>\n",
       "      <td>2.0</td>\n",
       "      <td>2.0</td>\n",
       "      <td>2.0</td>\n",
       "      <td>2.0</td>\n",
       "      <td>2.0</td>\n",
       "      <td>2.0</td>\n",
       "      <td>2.0</td>\n",
       "      <td>2.0</td>\n",
       "      <td>12.0</td>\n",
       "      <td>SIM</td>\n",
       "    </tr>\n",
       "    <tr>\n",
       "      <th>2</th>\n",
       "      <td>ObjectId(\"5ce365969db9b84404712210\")</td>\n",
       "      <td>2.0</td>\n",
       "      <td>2.0</td>\n",
       "      <td>2.0</td>\n",
       "      <td>2.0</td>\n",
       "      <td>2.0</td>\n",
       "      <td>2.0</td>\n",
       "      <td>2.0</td>\n",
       "      <td>2.0</td>\n",
       "      <td>2.0</td>\n",
       "      <td>...</td>\n",
       "      <td>2.0</td>\n",
       "      <td>2.0</td>\n",
       "      <td>2.0</td>\n",
       "      <td>2.0</td>\n",
       "      <td>2.0</td>\n",
       "      <td>2.0</td>\n",
       "      <td>2.0</td>\n",
       "      <td>2.0</td>\n",
       "      <td>22.0</td>\n",
       "      <td>SIM</td>\n",
       "    </tr>\n",
       "    <tr>\n",
       "      <th>3</th>\n",
       "      <td>ObjectId(\"5ce365969db9b84404712211\")</td>\n",
       "      <td>2.0</td>\n",
       "      <td>2.0</td>\n",
       "      <td>2.0</td>\n",
       "      <td>2.0</td>\n",
       "      <td>2.0</td>\n",
       "      <td>2.0</td>\n",
       "      <td>2.0</td>\n",
       "      <td>2.0</td>\n",
       "      <td>2.0</td>\n",
       "      <td>...</td>\n",
       "      <td>2.0</td>\n",
       "      <td>2.0</td>\n",
       "      <td>2.0</td>\n",
       "      <td>2.0</td>\n",
       "      <td>2.0</td>\n",
       "      <td>2.0</td>\n",
       "      <td>2.0</td>\n",
       "      <td>2.0</td>\n",
       "      <td>4.0</td>\n",
       "      <td>SIM</td>\n",
       "    </tr>\n",
       "    <tr>\n",
       "      <th>4</th>\n",
       "      <td>ObjectId(\"5ce365969db9b84404712212\")</td>\n",
       "      <td>2.0</td>\n",
       "      <td>2.0</td>\n",
       "      <td>2.0</td>\n",
       "      <td>2.0</td>\n",
       "      <td>2.0</td>\n",
       "      <td>2.0</td>\n",
       "      <td>2.0</td>\n",
       "      <td>2.0</td>\n",
       "      <td>2.0</td>\n",
       "      <td>...</td>\n",
       "      <td>2.0</td>\n",
       "      <td>2.0</td>\n",
       "      <td>2.0</td>\n",
       "      <td>2.0</td>\n",
       "      <td>2.0</td>\n",
       "      <td>2.0</td>\n",
       "      <td>2.0</td>\n",
       "      <td>2.0</td>\n",
       "      <td>46.0</td>\n",
       "      <td>SIM</td>\n",
       "    </tr>\n",
       "  </tbody>\n",
       "</table>\n",
       "<p>5 rows × 24 columns</p>\n",
       "</div>"
      ],
      "text/plain": [
       "                                    _id  febre  mialgia  cefaleia  exantema  \\\n",
       "0  ObjectId(\"5ce365969db9b8440471220e\")    2.0      2.0       2.0       2.0   \n",
       "1  ObjectId(\"5ce365969db9b8440471220f\")    2.0      2.0       2.0       2.0   \n",
       "2  ObjectId(\"5ce365969db9b84404712210\")    2.0      2.0       2.0       2.0   \n",
       "3  ObjectId(\"5ce365969db9b84404712211\")    2.0      2.0       2.0       2.0   \n",
       "4  ObjectId(\"5ce365969db9b84404712212\")    2.0      2.0       2.0       2.0   \n",
       "\n",
       "   vomito  nausea  dor_costas  conjutivite  artrite       ...         \\\n",
       "0     2.0     2.0         2.0          2.0      2.0       ...          \n",
       "1     2.0     2.0         2.0          2.0      2.0       ...          \n",
       "2     2.0     2.0         2.0          2.0      2.0       ...          \n",
       "3     2.0     2.0         2.0          2.0      2.0       ...          \n",
       "4     2.0     2.0         2.0          2.0      2.0       ...          \n",
       "\n",
       "   dor_retro  diabetes  hematolog  hepatopat  renal  hipertensao  acido_pept  \\\n",
       "0        2.0       2.0        2.0        2.0    2.0          2.0         2.0   \n",
       "1        2.0       2.0        2.0        2.0    2.0          2.0         2.0   \n",
       "2        2.0       2.0        2.0        2.0    2.0          2.0         2.0   \n",
       "3        2.0       2.0        2.0        2.0    2.0          2.0         2.0   \n",
       "4        2.0       2.0        2.0        2.0    2.0          2.0         2.0   \n",
       "\n",
       "   auto_imune  idade  caso_internacao  \n",
       "0         2.0    2.0              SIM  \n",
       "1         2.0   12.0              SIM  \n",
       "2         2.0   22.0              SIM  \n",
       "3         2.0    4.0              SIM  \n",
       "4         2.0   46.0              SIM  \n",
       "\n",
       "[5 rows x 24 columns]"
      ]
     },
     "execution_count": 96,
     "metadata": {},
     "output_type": "execute_result"
    }
   ],
   "source": [
    "dadosVariaveis.head()"
   ]
  },
  {
   "cell_type": "markdown",
   "metadata": {},
   "source": [
    "#### Divisão dos dados em treino e teste"
   ]
  },
  {
   "cell_type": "code",
   "execution_count": 98,
   "metadata": {},
   "outputs": [],
   "source": [
    "train = dadosVariaveis.sample(frac=0.8,random_state=200)\n",
    "test= dadosVariaveis.drop(train.index)"
   ]
  },
  {
   "cell_type": "code",
   "execution_count": 103,
   "metadata": {},
   "outputs": [
    {
     "name": "stdout",
     "output_type": "stream",
     "text": [
      "Usando 80% do dataset para treino\n"
     ]
    },
    {
     "data": {
      "text/plain": [
       "(49096, 24)"
      ]
     },
     "execution_count": 103,
     "metadata": {},
     "output_type": "execute_result"
    }
   ],
   "source": [
    "print('Usando 80% do dataset para treino')\n",
    "train.shape"
   ]
  },
  {
   "cell_type": "code",
   "execution_count": 104,
   "metadata": {},
   "outputs": [
    {
     "name": "stdout",
     "output_type": "stream",
     "text": [
      "Quantidade de casos de internação dentro do dataset de treino\n"
     ]
    },
    {
     "data": {
      "text/plain": [
       "NAO    39496\n",
       "SIM     9598\n",
       "Name: caso_internacao, dtype: int64"
      ]
     },
     "execution_count": 104,
     "metadata": {},
     "output_type": "execute_result"
    }
   ],
   "source": [
    "print('Quantidade de casos de internação dentro do dataset de treino')\n",
    "train.caso_internacao.value_counts()"
   ]
  },
  {
   "cell_type": "code",
   "execution_count": 105,
   "metadata": {},
   "outputs": [
    {
     "name": "stdout",
     "output_type": "stream",
     "text": [
      "Usando 20% do dataset para teste\n"
     ]
    },
    {
     "data": {
      "text/plain": [
       "(12274, 24)"
      ]
     },
     "execution_count": 105,
     "metadata": {},
     "output_type": "execute_result"
    }
   ],
   "source": [
    "print('Usando 20% do dataset para teste')\n",
    "test.shape"
   ]
  },
  {
   "cell_type": "code",
   "execution_count": 106,
   "metadata": {},
   "outputs": [
    {
     "name": "stdout",
     "output_type": "stream",
     "text": [
      "Quantidade de casos de internação dentro do dataset de teste\n"
     ]
    },
    {
     "data": {
      "text/plain": [
       "NAO    9877\n",
       "SIM    2397\n",
       "Name: caso_internacao, dtype: int64"
      ]
     },
     "execution_count": 106,
     "metadata": {},
     "output_type": "execute_result"
    }
   ],
   "source": [
    "print('Quantidade de casos de internação dentro do dataset de teste')\n",
    "test.caso_internacao.value_counts()"
   ]
  },
  {
   "cell_type": "code",
   "execution_count": null,
   "metadata": {},
   "outputs": [],
   "source": []
  }
 ],
 "metadata": {
  "kernelspec": {
   "display_name": "Python 3",
   "language": "python",
   "name": "python3"
  },
  "language_info": {
   "codemirror_mode": {
    "name": "ipython",
    "version": 3
   },
   "file_extension": ".py",
   "mimetype": "text/x-python",
   "name": "python",
   "nbconvert_exporter": "python",
   "pygments_lexer": "ipython3",
   "version": "3.6.5"
  }
 },
 "nbformat": 4,
 "nbformat_minor": 2
}
