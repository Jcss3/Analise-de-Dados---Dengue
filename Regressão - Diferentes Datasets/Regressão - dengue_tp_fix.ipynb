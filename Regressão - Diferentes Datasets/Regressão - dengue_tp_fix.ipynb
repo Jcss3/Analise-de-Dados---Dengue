{
 "cells": [
  {
   "cell_type": "markdown",
   "metadata": {},
   "source": [
    "### Bibliotecas Úteis "
   ]
  },
  {
   "cell_type": "code",
   "execution_count": 1,
   "metadata": {},
   "outputs": [],
   "source": [
    "import pandas as pd\n",
    "import numpy as np\n",
    "import seaborn as sns\n",
    "from seaborn import color_palette\n",
    "import matplotlib.pyplot as plt\n",
    "import matplotlib\n",
    "matplotlib.style.use('ggplot')\n",
    "\n",
    "import statsmodels.formula.api as smf\n",
    "import statsmodels.api as sm\n",
    "\n",
    "from sklearn.linear_model import LogisticRegression, LogisticRegressionCV\n",
    "from sklearn.metrics import accuracy_score, recall_score\n",
    "\n",
    "%matplotlib inline"
   ]
  },
  {
   "cell_type": "markdown",
   "metadata": {},
   "source": [
    "### Leitura dos Dados"
   ]
  },
  {
   "cell_type": "code",
   "execution_count": 2,
   "metadata": {},
   "outputs": [
    {
     "name": "stdout",
     "output_type": "stream",
     "text": [
      "(97831, 33)\n"
     ]
    },
    {
     "data": {
      "text/html": [
       "<div>\n",
       "<style scoped>\n",
       "    .dataframe tbody tr th:only-of-type {\n",
       "        vertical-align: middle;\n",
       "    }\n",
       "\n",
       "    .dataframe tbody tr th {\n",
       "        vertical-align: top;\n",
       "    }\n",
       "\n",
       "    .dataframe thead th {\n",
       "        text-align: right;\n",
       "    }\n",
       "</style>\n",
       "<table border=\"1\" class=\"dataframe\">\n",
       "  <thead>\n",
       "    <tr style=\"text-align: right;\">\n",
       "      <th></th>\n",
       "      <th>tp_sexo</th>\n",
       "      <th>tp_gestante</th>\n",
       "      <th>tp_raca_cor</th>\n",
       "      <th>tp_escolaridade</th>\n",
       "      <th>co_distrito_residencia</th>\n",
       "      <th>co_bairro_residencia</th>\n",
       "      <th>tp_classificacao_final</th>\n",
       "      <th>tp_evolucao_caso</th>\n",
       "      <th>febre</th>\n",
       "      <th>mialgia</th>\n",
       "      <th>...</th>\n",
       "      <th>hematolog</th>\n",
       "      <th>hepatopat</th>\n",
       "      <th>renal</th>\n",
       "      <th>hipertensao</th>\n",
       "      <th>acido_pept</th>\n",
       "      <th>auto_imune</th>\n",
       "      <th>notificao_dias</th>\n",
       "      <th>idade</th>\n",
       "      <th>caso_internacao</th>\n",
       "      <th>train</th>\n",
       "    </tr>\n",
       "  </thead>\n",
       "  <tbody>\n",
       "    <tr>\n",
       "      <th>0</th>\n",
       "      <td>M</td>\n",
       "      <td>6.0</td>\n",
       "      <td>9.0</td>\n",
       "      <td>10.0</td>\n",
       "      <td>122.0</td>\n",
       "      <td>820.0</td>\n",
       "      <td>5</td>\n",
       "      <td>1.0</td>\n",
       "      <td>2.0</td>\n",
       "      <td>2.0</td>\n",
       "      <td>...</td>\n",
       "      <td>2.0</td>\n",
       "      <td>2.0</td>\n",
       "      <td>2.0</td>\n",
       "      <td>2.0</td>\n",
       "      <td>2.0</td>\n",
       "      <td>2.0</td>\n",
       "      <td>334.0</td>\n",
       "      <td>2.0</td>\n",
       "      <td>SIM</td>\n",
       "      <td>T</td>\n",
       "    </tr>\n",
       "    <tr>\n",
       "      <th>1</th>\n",
       "      <td>F</td>\n",
       "      <td>9.0</td>\n",
       "      <td>9.0</td>\n",
       "      <td>9.0</td>\n",
       "      <td>119.0</td>\n",
       "      <td>841.0</td>\n",
       "      <td>5</td>\n",
       "      <td>1.0</td>\n",
       "      <td>2.0</td>\n",
       "      <td>2.0</td>\n",
       "      <td>...</td>\n",
       "      <td>2.0</td>\n",
       "      <td>2.0</td>\n",
       "      <td>2.0</td>\n",
       "      <td>2.0</td>\n",
       "      <td>2.0</td>\n",
       "      <td>2.0</td>\n",
       "      <td>365.0</td>\n",
       "      <td>12.0</td>\n",
       "      <td>SIM</td>\n",
       "      <td>T</td>\n",
       "    </tr>\n",
       "    <tr>\n",
       "      <th>2</th>\n",
       "      <td>M</td>\n",
       "      <td>6.0</td>\n",
       "      <td>4.0</td>\n",
       "      <td>NaN</td>\n",
       "      <td>118.0</td>\n",
       "      <td>826.0</td>\n",
       "      <td>5</td>\n",
       "      <td>1.0</td>\n",
       "      <td>2.0</td>\n",
       "      <td>2.0</td>\n",
       "      <td>...</td>\n",
       "      <td>2.0</td>\n",
       "      <td>2.0</td>\n",
       "      <td>2.0</td>\n",
       "      <td>2.0</td>\n",
       "      <td>2.0</td>\n",
       "      <td>2.0</td>\n",
       "      <td>122.0</td>\n",
       "      <td>22.0</td>\n",
       "      <td>SIM</td>\n",
       "      <td>T</td>\n",
       "    </tr>\n",
       "    <tr>\n",
       "      <th>3</th>\n",
       "      <td>F</td>\n",
       "      <td>6.0</td>\n",
       "      <td>9.0</td>\n",
       "      <td>10.0</td>\n",
       "      <td>122.0</td>\n",
       "      <td>820.0</td>\n",
       "      <td>1</td>\n",
       "      <td>1.0</td>\n",
       "      <td>2.0</td>\n",
       "      <td>2.0</td>\n",
       "      <td>...</td>\n",
       "      <td>2.0</td>\n",
       "      <td>2.0</td>\n",
       "      <td>2.0</td>\n",
       "      <td>2.0</td>\n",
       "      <td>2.0</td>\n",
       "      <td>2.0</td>\n",
       "      <td>61.0</td>\n",
       "      <td>4.0</td>\n",
       "      <td>SIM</td>\n",
       "      <td>T</td>\n",
       "    </tr>\n",
       "    <tr>\n",
       "      <th>4</th>\n",
       "      <td>F</td>\n",
       "      <td>9.0</td>\n",
       "      <td>9.0</td>\n",
       "      <td>NaN</td>\n",
       "      <td>122.0</td>\n",
       "      <td>824.0</td>\n",
       "      <td>5</td>\n",
       "      <td>1.0</td>\n",
       "      <td>2.0</td>\n",
       "      <td>2.0</td>\n",
       "      <td>...</td>\n",
       "      <td>2.0</td>\n",
       "      <td>2.0</td>\n",
       "      <td>2.0</td>\n",
       "      <td>2.0</td>\n",
       "      <td>2.0</td>\n",
       "      <td>2.0</td>\n",
       "      <td>61.0</td>\n",
       "      <td>46.0</td>\n",
       "      <td>SIM</td>\n",
       "      <td>T</td>\n",
       "    </tr>\n",
       "  </tbody>\n",
       "</table>\n",
       "<p>5 rows × 33 columns</p>\n",
       "</div>"
      ],
      "text/plain": [
       "  tp_sexo  tp_gestante  tp_raca_cor  tp_escolaridade  co_distrito_residencia  \\\n",
       "0       M          6.0          9.0             10.0                   122.0   \n",
       "1       F          9.0          9.0              9.0                   119.0   \n",
       "2       M          6.0          4.0              NaN                   118.0   \n",
       "3       F          6.0          9.0             10.0                   122.0   \n",
       "4       F          9.0          9.0              NaN                   122.0   \n",
       "\n",
       "   co_bairro_residencia  tp_classificacao_final  tp_evolucao_caso  febre  \\\n",
       "0                 820.0                       5               1.0    2.0   \n",
       "1                 841.0                       5               1.0    2.0   \n",
       "2                 826.0                       5               1.0    2.0   \n",
       "3                 820.0                       1               1.0    2.0   \n",
       "4                 824.0                       5               1.0    2.0   \n",
       "\n",
       "   mialgia  ...    hematolog  hepatopat  renal  hipertensao  acido_pept  \\\n",
       "0      2.0  ...          2.0        2.0    2.0          2.0         2.0   \n",
       "1      2.0  ...          2.0        2.0    2.0          2.0         2.0   \n",
       "2      2.0  ...          2.0        2.0    2.0          2.0         2.0   \n",
       "3      2.0  ...          2.0        2.0    2.0          2.0         2.0   \n",
       "4      2.0  ...          2.0        2.0    2.0          2.0         2.0   \n",
       "\n",
       "   auto_imune  notificao_dias  idade  caso_internacao  train  \n",
       "0         2.0           334.0    2.0              SIM      T  \n",
       "1         2.0           365.0   12.0              SIM      T  \n",
       "2         2.0           122.0   22.0              SIM      T  \n",
       "3         2.0            61.0    4.0              SIM      T  \n",
       "4         2.0            61.0   46.0              SIM      T  \n",
       "\n",
       "[5 rows x 33 columns]"
      ]
     },
     "execution_count": 2,
     "metadata": {},
     "output_type": "execute_result"
    }
   ],
   "source": [
    "dados = pd.read_csv('dengue_tp_fix.csv',low_memory=False)\n",
    "print(dados.shape)\n",
    "dados.head()"
   ]
  },
  {
   "cell_type": "code",
   "execution_count": 3,
   "metadata": {},
   "outputs": [
    {
     "data": {
      "text/plain": [
       "Index(['tp_sexo', 'tp_gestante', 'tp_raca_cor', 'tp_escolaridade',\n",
       "       'co_distrito_residencia', 'co_bairro_residencia',\n",
       "       'tp_classificacao_final', 'tp_evolucao_caso', 'febre', 'mialgia',\n",
       "       'cefaleia', 'exantema', 'vomito', 'nausea', 'dor_costas', 'conjutivite',\n",
       "       'artrite', 'artralgia', 'petequia_n', 'leucopenia', 'laco', 'dor_retro',\n",
       "       'diabetes', 'hematolog', 'hepatopat', 'renal', 'hipertensao',\n",
       "       'acido_pept', 'auto_imune', 'notificao_dias', 'idade',\n",
       "       'caso_internacao', 'train'],\n",
       "      dtype='object')"
      ]
     },
     "execution_count": 3,
     "metadata": {},
     "output_type": "execute_result"
    }
   ],
   "source": [
    "dados.columns"
   ]
  },
  {
   "cell_type": "markdown",
   "metadata": {},
   "source": [
    "### Divisão dos subsets - Treino e Teste"
   ]
  },
  {
   "cell_type": "code",
   "execution_count": 4,
   "metadata": {},
   "outputs": [
    {
     "name": "stdout",
     "output_type": "stream",
     "text": [
      "(68920, 32)\n",
      "SIM    34460\n",
      "NAO    34460\n",
      "Name: caso_internacao, dtype: int64\n",
      "(28911, 32)\n",
      "NAO    14879\n",
      "SIM    14030\n",
      "Name: caso_internacao, dtype: int64\n"
     ]
    }
   ],
   "source": [
    "treino = dados[dados.train=='T'].drop('train',axis=1)\n",
    "print(treino.shape)\n",
    "print(treino.caso_internacao.value_counts())\n",
    "teste = dados[dados.train!='T'].drop('train',axis=1)\n",
    "print(teste.shape)\n",
    "print(teste.caso_internacao.value_counts())"
   ]
  },
  {
   "cell_type": "markdown",
   "metadata": {},
   "source": [
    "### Regressão Logística"
   ]
  },
  {
   "cell_type": "code",
   "execution_count": 5,
   "metadata": {},
   "outputs": [
    {
     "name": "stdout",
     "output_type": "stream",
     "text": [
      "Optimization terminated successfully.\n",
      "         Current function value: 0.264870\n",
      "         Iterations 10\n"
     ]
    },
    {
     "data": {
      "text/html": [
       "<table class=\"simpletable\">\n",
       "<caption>Logit Regression Results</caption>\n",
       "<tr>\n",
       "  <th>Dep. Variable:</th>        <td>Ip</td>        <th>  No. Observations:  </th>  <td> 50747</td> \n",
       "</tr>\n",
       "<tr>\n",
       "  <th>Model:</th>               <td>Logit</td>      <th>  Df Residuals:      </th>  <td> 50715</td> \n",
       "</tr>\n",
       "<tr>\n",
       "  <th>Method:</th>               <td>MLE</td>       <th>  Df Model:          </th>  <td>    31</td> \n",
       "</tr>\n",
       "<tr>\n",
       "  <th>Date:</th>          <td>Mon, 24 Jun 2019</td> <th>  Pseudo R-squ.:     </th>  <td>0.6121</td> \n",
       "</tr>\n",
       "<tr>\n",
       "  <th>Time:</th>              <td>18:33:20</td>     <th>  Log-Likelihood:    </th> <td> -13441.</td>\n",
       "</tr>\n",
       "<tr>\n",
       "  <th>converged:</th>           <td>True</td>       <th>  LL-Null:           </th> <td> -34652.</td>\n",
       "</tr>\n",
       "<tr>\n",
       "  <th> </th>                      <td> </td>        <th>  LLR p-value:       </th>  <td> 0.000</td> \n",
       "</tr>\n",
       "</table>\n",
       "<table class=\"simpletable\">\n",
       "<tr>\n",
       "             <td></td>               <th>coef</th>     <th>std err</th>      <th>z</th>      <th>P>|z|</th>  <th>[0.025</th>    <th>0.975]</th>  \n",
       "</tr>\n",
       "<tr>\n",
       "  <th>Intercept</th>              <td>   38.7697</td> <td>    4.258</td> <td>    9.105</td> <td> 0.000</td> <td>   30.424</td> <td>   47.115</td>\n",
       "</tr>\n",
       "<tr>\n",
       "  <th>tp_sexo[T.I]</th>           <td>   -0.2067</td> <td>    0.364</td> <td>   -0.568</td> <td> 0.570</td> <td>   -0.920</td> <td>    0.507</td>\n",
       "</tr>\n",
       "<tr>\n",
       "  <th>tp_sexo[T.M]</th>           <td>   -0.0816</td> <td>    0.033</td> <td>   -2.496</td> <td> 0.013</td> <td>   -0.146</td> <td>   -0.018</td>\n",
       "</tr>\n",
       "<tr>\n",
       "  <th>tp_gestante</th>            <td>   -0.3245</td> <td>    0.011</td> <td>  -28.847</td> <td> 0.000</td> <td>   -0.347</td> <td>   -0.302</td>\n",
       "</tr>\n",
       "<tr>\n",
       "  <th>tp_escolaridade</th>        <td>    0.0181</td> <td>    0.011</td> <td>    1.594</td> <td> 0.111</td> <td>   -0.004</td> <td>    0.040</td>\n",
       "</tr>\n",
       "<tr>\n",
       "  <th>tp_classificacao_final</th> <td>   -0.1160</td> <td>    0.007</td> <td>  -16.642</td> <td> 0.000</td> <td>   -0.130</td> <td>   -0.102</td>\n",
       "</tr>\n",
       "<tr>\n",
       "  <th>notificao_dias</th>         <td>   -0.0009</td> <td>    0.000</td> <td>   -2.564</td> <td> 0.010</td> <td>   -0.002</td> <td>   -0.000</td>\n",
       "</tr>\n",
       "<tr>\n",
       "  <th>idade</th>                  <td>    0.0311</td> <td>    0.001</td> <td>   39.535</td> <td> 0.000</td> <td>    0.030</td> <td>    0.033</td>\n",
       "</tr>\n",
       "<tr>\n",
       "  <th>tp_raca_cor</th>            <td>   -0.0242</td> <td>    0.007</td> <td>   -3.653</td> <td> 0.000</td> <td>   -0.037</td> <td>   -0.011</td>\n",
       "</tr>\n",
       "<tr>\n",
       "  <th>co_distrito_residencia</th> <td>    0.0031</td> <td>    0.000</td> <td>   26.789</td> <td> 0.000</td> <td>    0.003</td> <td>    0.003</td>\n",
       "</tr>\n",
       "<tr>\n",
       "  <th>co_bairro_residencia</th>   <td>    0.0097</td> <td>    0.000</td> <td>   44.086</td> <td> 0.000</td> <td>    0.009</td> <td>    0.010</td>\n",
       "</tr>\n",
       "<tr>\n",
       "  <th>febre</th>                  <td>   -3.0090</td> <td>    0.062</td> <td>  -48.388</td> <td> 0.000</td> <td>   -3.131</td> <td>   -2.887</td>\n",
       "</tr>\n",
       "<tr>\n",
       "  <th>mialgia</th>                <td>   -1.2907</td> <td>    0.064</td> <td>  -20.024</td> <td> 0.000</td> <td>   -1.417</td> <td>   -1.164</td>\n",
       "</tr>\n",
       "<tr>\n",
       "  <th>cefaleia</th>               <td>   -0.9174</td> <td>    0.065</td> <td>  -14.012</td> <td> 0.000</td> <td>   -1.046</td> <td>   -0.789</td>\n",
       "</tr>\n",
       "<tr>\n",
       "  <th>exantema</th>               <td>   -0.2289</td> <td>    0.076</td> <td>   -3.007</td> <td> 0.003</td> <td>   -0.378</td> <td>   -0.080</td>\n",
       "</tr>\n",
       "<tr>\n",
       "  <th>vomito</th>                 <td>   -1.6377</td> <td>    0.095</td> <td>  -17.165</td> <td> 0.000</td> <td>   -1.825</td> <td>   -1.451</td>\n",
       "</tr>\n",
       "<tr>\n",
       "  <th>nausea</th>                 <td>    0.0569</td> <td>    0.096</td> <td>    0.594</td> <td> 0.552</td> <td>   -0.131</td> <td>    0.245</td>\n",
       "</tr>\n",
       "<tr>\n",
       "  <th>dor_costas</th>             <td>   -1.3137</td> <td>    0.225</td> <td>   -5.852</td> <td> 0.000</td> <td>   -1.754</td> <td>   -0.874</td>\n",
       "</tr>\n",
       "<tr>\n",
       "  <th>conjutivite</th>            <td>   -1.6134</td> <td>    0.424</td> <td>   -3.807</td> <td> 0.000</td> <td>   -2.444</td> <td>   -0.783</td>\n",
       "</tr>\n",
       "<tr>\n",
       "  <th>artrite</th>                <td>    0.3255</td> <td>    0.176</td> <td>    1.847</td> <td> 0.065</td> <td>   -0.020</td> <td>    0.671</td>\n",
       "</tr>\n",
       "<tr>\n",
       "  <th>artralgia</th>              <td>    0.5958</td> <td>    0.071</td> <td>    8.347</td> <td> 0.000</td> <td>    0.456</td> <td>    0.736</td>\n",
       "</tr>\n",
       "<tr>\n",
       "  <th>petequia_n</th>             <td>   -1.9907</td> <td>    0.270</td> <td>   -7.380</td> <td> 0.000</td> <td>   -2.519</td> <td>   -1.462</td>\n",
       "</tr>\n",
       "<tr>\n",
       "  <th>leucopenia</th>             <td>   -2.4086</td> <td>    0.350</td> <td>   -6.887</td> <td> 0.000</td> <td>   -3.094</td> <td>   -1.723</td>\n",
       "</tr>\n",
       "<tr>\n",
       "  <th>laco</th>                   <td>   -1.2778</td> <td>    0.630</td> <td>   -2.028</td> <td> 0.043</td> <td>   -2.513</td> <td>   -0.043</td>\n",
       "</tr>\n",
       "<tr>\n",
       "  <th>dor_retro</th>              <td>    0.5157</td> <td>    0.103</td> <td>    5.013</td> <td> 0.000</td> <td>    0.314</td> <td>    0.717</td>\n",
       "</tr>\n",
       "<tr>\n",
       "  <th>diabetes</th>               <td>   -1.6974</td> <td>    0.644</td> <td>   -2.634</td> <td> 0.008</td> <td>   -2.961</td> <td>   -0.434</td>\n",
       "</tr>\n",
       "<tr>\n",
       "  <th>hematolog</th>              <td>    0.5296</td> <td>    0.661</td> <td>    0.801</td> <td> 0.423</td> <td>   -0.766</td> <td>    1.826</td>\n",
       "</tr>\n",
       "<tr>\n",
       "  <th>hepatopat</th>              <td>   -0.0790</td> <td>    0.717</td> <td>   -0.110</td> <td> 0.912</td> <td>   -1.484</td> <td>    1.326</td>\n",
       "</tr>\n",
       "<tr>\n",
       "  <th>renal</th>                  <td>   -0.5118</td> <td>    1.130</td> <td>   -0.453</td> <td> 0.651</td> <td>   -2.727</td> <td>    1.703</td>\n",
       "</tr>\n",
       "<tr>\n",
       "  <th>hipertensao</th>            <td>   -3.1107</td> <td>    0.505</td> <td>   -6.160</td> <td> 0.000</td> <td>   -4.100</td> <td>   -2.121</td>\n",
       "</tr>\n",
       "<tr>\n",
       "  <th>acido_pept</th>             <td>   -2.8907</td> <td>    1.057</td> <td>   -2.736</td> <td> 0.006</td> <td>   -4.962</td> <td>   -0.820</td>\n",
       "</tr>\n",
       "<tr>\n",
       "  <th>auto_imune</th>             <td>    2.2729</td> <td>    0.695</td> <td>    3.270</td> <td> 0.001</td> <td>    0.911</td> <td>    3.635</td>\n",
       "</tr>\n",
       "</table>"
      ],
      "text/plain": [
       "<class 'statsmodels.iolib.summary.Summary'>\n",
       "\"\"\"\n",
       "                           Logit Regression Results                           \n",
       "==============================================================================\n",
       "Dep. Variable:                     Ip   No. Observations:                50747\n",
       "Model:                          Logit   Df Residuals:                    50715\n",
       "Method:                           MLE   Df Model:                           31\n",
       "Date:                Mon, 24 Jun 2019   Pseudo R-squ.:                  0.6121\n",
       "Time:                        18:33:20   Log-Likelihood:                -13441.\n",
       "converged:                       True   LL-Null:                       -34652.\n",
       "                                        LLR p-value:                     0.000\n",
       "==========================================================================================\n",
       "                             coef    std err          z      P>|z|      [0.025      0.975]\n",
       "------------------------------------------------------------------------------------------\n",
       "Intercept                 38.7697      4.258      9.105      0.000      30.424      47.115\n",
       "tp_sexo[T.I]              -0.2067      0.364     -0.568      0.570      -0.920       0.507\n",
       "tp_sexo[T.M]              -0.0816      0.033     -2.496      0.013      -0.146      -0.018\n",
       "tp_gestante               -0.3245      0.011    -28.847      0.000      -0.347      -0.302\n",
       "tp_escolaridade            0.0181      0.011      1.594      0.111      -0.004       0.040\n",
       "tp_classificacao_final    -0.1160      0.007    -16.642      0.000      -0.130      -0.102\n",
       "notificao_dias            -0.0009      0.000     -2.564      0.010      -0.002      -0.000\n",
       "idade                      0.0311      0.001     39.535      0.000       0.030       0.033\n",
       "tp_raca_cor               -0.0242      0.007     -3.653      0.000      -0.037      -0.011\n",
       "co_distrito_residencia     0.0031      0.000     26.789      0.000       0.003       0.003\n",
       "co_bairro_residencia       0.0097      0.000     44.086      0.000       0.009       0.010\n",
       "febre                     -3.0090      0.062    -48.388      0.000      -3.131      -2.887\n",
       "mialgia                   -1.2907      0.064    -20.024      0.000      -1.417      -1.164\n",
       "cefaleia                  -0.9174      0.065    -14.012      0.000      -1.046      -0.789\n",
       "exantema                  -0.2289      0.076     -3.007      0.003      -0.378      -0.080\n",
       "vomito                    -1.6377      0.095    -17.165      0.000      -1.825      -1.451\n",
       "nausea                     0.0569      0.096      0.594      0.552      -0.131       0.245\n",
       "dor_costas                -1.3137      0.225     -5.852      0.000      -1.754      -0.874\n",
       "conjutivite               -1.6134      0.424     -3.807      0.000      -2.444      -0.783\n",
       "artrite                    0.3255      0.176      1.847      0.065      -0.020       0.671\n",
       "artralgia                  0.5958      0.071      8.347      0.000       0.456       0.736\n",
       "petequia_n                -1.9907      0.270     -7.380      0.000      -2.519      -1.462\n",
       "leucopenia                -2.4086      0.350     -6.887      0.000      -3.094      -1.723\n",
       "laco                      -1.2778      0.630     -2.028      0.043      -2.513      -0.043\n",
       "dor_retro                  0.5157      0.103      5.013      0.000       0.314       0.717\n",
       "diabetes                  -1.6974      0.644     -2.634      0.008      -2.961      -0.434\n",
       "hematolog                  0.5296      0.661      0.801      0.423      -0.766       1.826\n",
       "hepatopat                 -0.0790      0.717     -0.110      0.912      -1.484       1.326\n",
       "renal                     -0.5118      1.130     -0.453      0.651      -2.727       1.703\n",
       "hipertensao               -3.1107      0.505     -6.160      0.000      -4.100      -2.121\n",
       "acido_pept                -2.8907      1.057     -2.736      0.006      -4.962      -0.820\n",
       "auto_imune                 2.2729      0.695      3.270      0.001       0.911       3.635\n",
       "==========================================================================================\n",
       "\"\"\""
      ]
     },
     "execution_count": 5,
     "metadata": {},
     "output_type": "execute_result"
    }
   ],
   "source": [
    "treinoCP = sm.add_constant(treino.copy())\n",
    "treinoCP['Ip'] = treinoCP.caso_internacao.map(lambda x: x=='SIM' and 1 or 0)\n",
    "model = smf.logit(\"Ip ~  + tp_sexo + tp_gestante + tp_escolaridade + tp_classificacao_final + notificao_dias + idade + tp_raca_cor + tp_escolaridade + co_distrito_residencia + co_bairro_residencia + febre + mialgia + cefaleia + exantema + vomito + nausea + dor_costas + conjutivite + artrite + artralgia + petequia_n + leucopenia + laco + dor_retro + diabetes + hematolog + hepatopat + renal + hipertensao + acido_pept + auto_imune\",data=treinoCP).fit()\n",
    "\n",
    "model.summary()"
   ]
  },
  {
   "cell_type": "markdown",
   "metadata": {},
   "source": [
    "### Predição de Valores"
   ]
  },
  {
   "cell_type": "markdown",
   "metadata": {},
   "source": [
    "<strong>Probabilidade</strong> de ser um Caso de internação"
   ]
  },
  {
   "cell_type": "code",
   "execution_count": 6,
   "metadata": {},
   "outputs": [
    {
     "data": {
      "text/plain": [
       "40308         NaN\n",
       "40309    0.978109\n",
       "40310         NaN\n",
       "40311    0.986592\n",
       "40312    0.988932\n",
       "40313    0.853750\n",
       "40314    0.989833\n",
       "40315    0.288750\n",
       "40316    0.780430\n",
       "40317    0.409276\n",
       "40318         NaN\n",
       "40319         NaN\n",
       "40320         NaN\n",
       "40321    0.754969\n",
       "40322         NaN\n",
       "40323    0.990621\n",
       "40324    0.970507\n",
       "40325         NaN\n",
       "40326         NaN\n",
       "40327         NaN\n",
       "40328         NaN\n",
       "40329    0.625777\n",
       "40330    0.062336\n",
       "40331    0.584992\n",
       "40332         NaN\n",
       "40333    0.215617\n",
       "40334    0.070842\n",
       "40335    0.965707\n",
       "40336    0.978167\n",
       "40337         NaN\n",
       "           ...   \n",
       "97801    0.997528\n",
       "97802    0.999264\n",
       "97803         NaN\n",
       "97804    0.994324\n",
       "97805         NaN\n",
       "97806    0.994871\n",
       "97807    0.874152\n",
       "97808    0.998116\n",
       "97809    0.987572\n",
       "97810         NaN\n",
       "97811         NaN\n",
       "97812    0.106736\n",
       "97813    0.997357\n",
       "97814    0.966404\n",
       "97815    0.607916\n",
       "97816    0.736728\n",
       "97817    0.999068\n",
       "97818    0.344212\n",
       "97819         NaN\n",
       "97820    0.984942\n",
       "97821         NaN\n",
       "97822    0.996290\n",
       "97823    0.075661\n",
       "97824    0.994576\n",
       "97825    0.998803\n",
       "97826    0.976529\n",
       "97827    0.926365\n",
       "97828    0.996313\n",
       "97829    0.143536\n",
       "97830         NaN\n",
       "Length: 28911, dtype: float64"
      ]
     },
     "execution_count": 6,
     "metadata": {},
     "output_type": "execute_result"
    }
   ],
   "source": [
    "model.predict(teste)"
   ]
  },
  {
   "cell_type": "markdown",
   "metadata": {},
   "source": [
    "Como podemos ver, o modelo retorna as <strong>probabilidades associadas</strong> a cada objeto no conjunto de teste de <strong>terem sido internados!</strong>\n",
    "Podemos converter tais probabilidades em classes. Podemos arbitrariamente dizer que se a probabilidade for <strong>maior que 0.5</strong> então a classe é <strong>sim para internação</strong>, e <strong>negativa caso contrário.</strong>"
   ]
  },
  {
   "cell_type": "code",
   "execution_count": 7,
   "metadata": {},
   "outputs": [
    {
     "data": {
      "text/plain": [
       "40308    NAO\n",
       "40309    SIM\n",
       "40310    NAO\n",
       "40311    SIM\n",
       "40312    SIM\n",
       "40313    SIM\n",
       "40314    SIM\n",
       "40315    NAO\n",
       "40316    SIM\n",
       "40317    NAO\n",
       "40318    NAO\n",
       "40319    NAO\n",
       "40320    NAO\n",
       "40321    SIM\n",
       "40322    NAO\n",
       "40323    SIM\n",
       "40324    SIM\n",
       "40325    NAO\n",
       "40326    NAO\n",
       "40327    NAO\n",
       "40328    NAO\n",
       "40329    SIM\n",
       "40330    NAO\n",
       "40331    SIM\n",
       "40332    NAO\n",
       "40333    NAO\n",
       "40334    NAO\n",
       "40335    SIM\n",
       "40336    SIM\n",
       "40337    NAO\n",
       "        ... \n",
       "97801    SIM\n",
       "97802    SIM\n",
       "97803    NAO\n",
       "97804    SIM\n",
       "97805    NAO\n",
       "97806    SIM\n",
       "97807    SIM\n",
       "97808    SIM\n",
       "97809    SIM\n",
       "97810    NAO\n",
       "97811    NAO\n",
       "97812    NAO\n",
       "97813    SIM\n",
       "97814    SIM\n",
       "97815    SIM\n",
       "97816    SIM\n",
       "97817    SIM\n",
       "97818    NAO\n",
       "97819    NAO\n",
       "97820    SIM\n",
       "97821    NAO\n",
       "97822    SIM\n",
       "97823    NAO\n",
       "97824    SIM\n",
       "97825    SIM\n",
       "97826    SIM\n",
       "97827    SIM\n",
       "97828    SIM\n",
       "97829    NAO\n",
       "97830    NAO\n",
       "Length: 28911, dtype: object"
      ]
     },
     "execution_count": 7,
     "metadata": {},
     "output_type": "execute_result"
    }
   ],
   "source": [
    "model.predict(teste).map(lambda x: x > 0.5 and 'SIM' or 'NAO')"
   ]
  },
  {
   "cell_type": "markdown",
   "metadata": {},
   "source": [
    "### Comparando os valores originais com a predição\n"
   ]
  },
  {
   "cell_type": "code",
   "execution_count": 37,
   "metadata": {},
   "outputs": [],
   "source": [
    "df = pd.DataFrame(dict(prob=model.predict(teste),\n",
    "                  pred=model.predict(teste).map(lambda x: x > 0.7 and 'SIM' or 'NAO'),\n",
    "                  real=teste.caso_internacao))"
   ]
  },
  {
   "cell_type": "code",
   "execution_count": 38,
   "metadata": {},
   "outputs": [
    {
     "data": {
      "text/html": [
       "<div>\n",
       "<style scoped>\n",
       "    .dataframe tbody tr th:only-of-type {\n",
       "        vertical-align: middle;\n",
       "    }\n",
       "\n",
       "    .dataframe tbody tr th {\n",
       "        vertical-align: top;\n",
       "    }\n",
       "\n",
       "    .dataframe thead th {\n",
       "        text-align: right;\n",
       "    }\n",
       "</style>\n",
       "<table border=\"1\" class=\"dataframe\">\n",
       "  <thead>\n",
       "    <tr style=\"text-align: right;\">\n",
       "      <th></th>\n",
       "      <th>prob</th>\n",
       "      <th>pred</th>\n",
       "      <th>real</th>\n",
       "    </tr>\n",
       "  </thead>\n",
       "  <tbody>\n",
       "    <tr>\n",
       "      <th>40308</th>\n",
       "      <td>NaN</td>\n",
       "      <td>NAO</td>\n",
       "      <td>NAO</td>\n",
       "    </tr>\n",
       "    <tr>\n",
       "      <th>40309</th>\n",
       "      <td>0.978109</td>\n",
       "      <td>SIM</td>\n",
       "      <td>NAO</td>\n",
       "    </tr>\n",
       "    <tr>\n",
       "      <th>40310</th>\n",
       "      <td>NaN</td>\n",
       "      <td>NAO</td>\n",
       "      <td>NAO</td>\n",
       "    </tr>\n",
       "    <tr>\n",
       "      <th>40311</th>\n",
       "      <td>0.986592</td>\n",
       "      <td>SIM</td>\n",
       "      <td>NAO</td>\n",
       "    </tr>\n",
       "    <tr>\n",
       "      <th>40312</th>\n",
       "      <td>0.988932</td>\n",
       "      <td>SIM</td>\n",
       "      <td>NAO</td>\n",
       "    </tr>\n",
       "    <tr>\n",
       "      <th>40313</th>\n",
       "      <td>0.853750</td>\n",
       "      <td>SIM</td>\n",
       "      <td>NAO</td>\n",
       "    </tr>\n",
       "    <tr>\n",
       "      <th>40314</th>\n",
       "      <td>0.989833</td>\n",
       "      <td>SIM</td>\n",
       "      <td>NAO</td>\n",
       "    </tr>\n",
       "    <tr>\n",
       "      <th>40315</th>\n",
       "      <td>0.288750</td>\n",
       "      <td>NAO</td>\n",
       "      <td>NAO</td>\n",
       "    </tr>\n",
       "    <tr>\n",
       "      <th>40316</th>\n",
       "      <td>0.780430</td>\n",
       "      <td>SIM</td>\n",
       "      <td>NAO</td>\n",
       "    </tr>\n",
       "    <tr>\n",
       "      <th>40317</th>\n",
       "      <td>0.409276</td>\n",
       "      <td>NAO</td>\n",
       "      <td>NAO</td>\n",
       "    </tr>\n",
       "    <tr>\n",
       "      <th>40318</th>\n",
       "      <td>NaN</td>\n",
       "      <td>NAO</td>\n",
       "      <td>NAO</td>\n",
       "    </tr>\n",
       "    <tr>\n",
       "      <th>40319</th>\n",
       "      <td>NaN</td>\n",
       "      <td>NAO</td>\n",
       "      <td>NAO</td>\n",
       "    </tr>\n",
       "    <tr>\n",
       "      <th>40320</th>\n",
       "      <td>NaN</td>\n",
       "      <td>NAO</td>\n",
       "      <td>NAO</td>\n",
       "    </tr>\n",
       "    <tr>\n",
       "      <th>40321</th>\n",
       "      <td>0.754969</td>\n",
       "      <td>SIM</td>\n",
       "      <td>NAO</td>\n",
       "    </tr>\n",
       "    <tr>\n",
       "      <th>40322</th>\n",
       "      <td>NaN</td>\n",
       "      <td>NAO</td>\n",
       "      <td>NAO</td>\n",
       "    </tr>\n",
       "    <tr>\n",
       "      <th>40323</th>\n",
       "      <td>0.990621</td>\n",
       "      <td>SIM</td>\n",
       "      <td>NAO</td>\n",
       "    </tr>\n",
       "    <tr>\n",
       "      <th>40324</th>\n",
       "      <td>0.970507</td>\n",
       "      <td>SIM</td>\n",
       "      <td>NAO</td>\n",
       "    </tr>\n",
       "    <tr>\n",
       "      <th>40325</th>\n",
       "      <td>NaN</td>\n",
       "      <td>NAO</td>\n",
       "      <td>NAO</td>\n",
       "    </tr>\n",
       "    <tr>\n",
       "      <th>40326</th>\n",
       "      <td>NaN</td>\n",
       "      <td>NAO</td>\n",
       "      <td>NAO</td>\n",
       "    </tr>\n",
       "    <tr>\n",
       "      <th>40327</th>\n",
       "      <td>NaN</td>\n",
       "      <td>NAO</td>\n",
       "      <td>NAO</td>\n",
       "    </tr>\n",
       "    <tr>\n",
       "      <th>40328</th>\n",
       "      <td>NaN</td>\n",
       "      <td>NAO</td>\n",
       "      <td>NAO</td>\n",
       "    </tr>\n",
       "    <tr>\n",
       "      <th>40329</th>\n",
       "      <td>0.625777</td>\n",
       "      <td>NAO</td>\n",
       "      <td>NAO</td>\n",
       "    </tr>\n",
       "    <tr>\n",
       "      <th>40330</th>\n",
       "      <td>0.062336</td>\n",
       "      <td>NAO</td>\n",
       "      <td>NAO</td>\n",
       "    </tr>\n",
       "    <tr>\n",
       "      <th>40331</th>\n",
       "      <td>0.584992</td>\n",
       "      <td>NAO</td>\n",
       "      <td>NAO</td>\n",
       "    </tr>\n",
       "    <tr>\n",
       "      <th>40332</th>\n",
       "      <td>NaN</td>\n",
       "      <td>NAO</td>\n",
       "      <td>NAO</td>\n",
       "    </tr>\n",
       "    <tr>\n",
       "      <th>40333</th>\n",
       "      <td>0.215617</td>\n",
       "      <td>NAO</td>\n",
       "      <td>NAO</td>\n",
       "    </tr>\n",
       "    <tr>\n",
       "      <th>40334</th>\n",
       "      <td>0.070842</td>\n",
       "      <td>NAO</td>\n",
       "      <td>NAO</td>\n",
       "    </tr>\n",
       "    <tr>\n",
       "      <th>40335</th>\n",
       "      <td>0.965707</td>\n",
       "      <td>SIM</td>\n",
       "      <td>NAO</td>\n",
       "    </tr>\n",
       "    <tr>\n",
       "      <th>40336</th>\n",
       "      <td>0.978167</td>\n",
       "      <td>SIM</td>\n",
       "      <td>NAO</td>\n",
       "    </tr>\n",
       "    <tr>\n",
       "      <th>40337</th>\n",
       "      <td>NaN</td>\n",
       "      <td>NAO</td>\n",
       "      <td>NAO</td>\n",
       "    </tr>\n",
       "    <tr>\n",
       "      <th>...</th>\n",
       "      <td>...</td>\n",
       "      <td>...</td>\n",
       "      <td>...</td>\n",
       "    </tr>\n",
       "    <tr>\n",
       "      <th>97801</th>\n",
       "      <td>0.997528</td>\n",
       "      <td>SIM</td>\n",
       "      <td>SIM</td>\n",
       "    </tr>\n",
       "    <tr>\n",
       "      <th>97802</th>\n",
       "      <td>0.999264</td>\n",
       "      <td>SIM</td>\n",
       "      <td>SIM</td>\n",
       "    </tr>\n",
       "    <tr>\n",
       "      <th>97803</th>\n",
       "      <td>NaN</td>\n",
       "      <td>NAO</td>\n",
       "      <td>SIM</td>\n",
       "    </tr>\n",
       "    <tr>\n",
       "      <th>97804</th>\n",
       "      <td>0.994324</td>\n",
       "      <td>SIM</td>\n",
       "      <td>SIM</td>\n",
       "    </tr>\n",
       "    <tr>\n",
       "      <th>97805</th>\n",
       "      <td>NaN</td>\n",
       "      <td>NAO</td>\n",
       "      <td>SIM</td>\n",
       "    </tr>\n",
       "    <tr>\n",
       "      <th>97806</th>\n",
       "      <td>0.994871</td>\n",
       "      <td>SIM</td>\n",
       "      <td>SIM</td>\n",
       "    </tr>\n",
       "    <tr>\n",
       "      <th>97807</th>\n",
       "      <td>0.874152</td>\n",
       "      <td>SIM</td>\n",
       "      <td>SIM</td>\n",
       "    </tr>\n",
       "    <tr>\n",
       "      <th>97808</th>\n",
       "      <td>0.998116</td>\n",
       "      <td>SIM</td>\n",
       "      <td>SIM</td>\n",
       "    </tr>\n",
       "    <tr>\n",
       "      <th>97809</th>\n",
       "      <td>0.987572</td>\n",
       "      <td>SIM</td>\n",
       "      <td>SIM</td>\n",
       "    </tr>\n",
       "    <tr>\n",
       "      <th>97810</th>\n",
       "      <td>NaN</td>\n",
       "      <td>NAO</td>\n",
       "      <td>SIM</td>\n",
       "    </tr>\n",
       "    <tr>\n",
       "      <th>97811</th>\n",
       "      <td>NaN</td>\n",
       "      <td>NAO</td>\n",
       "      <td>SIM</td>\n",
       "    </tr>\n",
       "    <tr>\n",
       "      <th>97812</th>\n",
       "      <td>0.106736</td>\n",
       "      <td>NAO</td>\n",
       "      <td>SIM</td>\n",
       "    </tr>\n",
       "    <tr>\n",
       "      <th>97813</th>\n",
       "      <td>0.997357</td>\n",
       "      <td>SIM</td>\n",
       "      <td>SIM</td>\n",
       "    </tr>\n",
       "    <tr>\n",
       "      <th>97814</th>\n",
       "      <td>0.966404</td>\n",
       "      <td>SIM</td>\n",
       "      <td>SIM</td>\n",
       "    </tr>\n",
       "    <tr>\n",
       "      <th>97815</th>\n",
       "      <td>0.607916</td>\n",
       "      <td>NAO</td>\n",
       "      <td>SIM</td>\n",
       "    </tr>\n",
       "    <tr>\n",
       "      <th>97816</th>\n",
       "      <td>0.736728</td>\n",
       "      <td>SIM</td>\n",
       "      <td>SIM</td>\n",
       "    </tr>\n",
       "    <tr>\n",
       "      <th>97817</th>\n",
       "      <td>0.999068</td>\n",
       "      <td>SIM</td>\n",
       "      <td>SIM</td>\n",
       "    </tr>\n",
       "    <tr>\n",
       "      <th>97818</th>\n",
       "      <td>0.344212</td>\n",
       "      <td>NAO</td>\n",
       "      <td>SIM</td>\n",
       "    </tr>\n",
       "    <tr>\n",
       "      <th>97819</th>\n",
       "      <td>NaN</td>\n",
       "      <td>NAO</td>\n",
       "      <td>SIM</td>\n",
       "    </tr>\n",
       "    <tr>\n",
       "      <th>97820</th>\n",
       "      <td>0.984942</td>\n",
       "      <td>SIM</td>\n",
       "      <td>SIM</td>\n",
       "    </tr>\n",
       "    <tr>\n",
       "      <th>97821</th>\n",
       "      <td>NaN</td>\n",
       "      <td>NAO</td>\n",
       "      <td>SIM</td>\n",
       "    </tr>\n",
       "    <tr>\n",
       "      <th>97822</th>\n",
       "      <td>0.996290</td>\n",
       "      <td>SIM</td>\n",
       "      <td>SIM</td>\n",
       "    </tr>\n",
       "    <tr>\n",
       "      <th>97823</th>\n",
       "      <td>0.075661</td>\n",
       "      <td>NAO</td>\n",
       "      <td>SIM</td>\n",
       "    </tr>\n",
       "    <tr>\n",
       "      <th>97824</th>\n",
       "      <td>0.994576</td>\n",
       "      <td>SIM</td>\n",
       "      <td>SIM</td>\n",
       "    </tr>\n",
       "    <tr>\n",
       "      <th>97825</th>\n",
       "      <td>0.998803</td>\n",
       "      <td>SIM</td>\n",
       "      <td>SIM</td>\n",
       "    </tr>\n",
       "    <tr>\n",
       "      <th>97826</th>\n",
       "      <td>0.976529</td>\n",
       "      <td>SIM</td>\n",
       "      <td>SIM</td>\n",
       "    </tr>\n",
       "    <tr>\n",
       "      <th>97827</th>\n",
       "      <td>0.926365</td>\n",
       "      <td>SIM</td>\n",
       "      <td>SIM</td>\n",
       "    </tr>\n",
       "    <tr>\n",
       "      <th>97828</th>\n",
       "      <td>0.996313</td>\n",
       "      <td>SIM</td>\n",
       "      <td>SIM</td>\n",
       "    </tr>\n",
       "    <tr>\n",
       "      <th>97829</th>\n",
       "      <td>0.143536</td>\n",
       "      <td>NAO</td>\n",
       "      <td>SIM</td>\n",
       "    </tr>\n",
       "    <tr>\n",
       "      <th>97830</th>\n",
       "      <td>NaN</td>\n",
       "      <td>NAO</td>\n",
       "      <td>NaN</td>\n",
       "    </tr>\n",
       "  </tbody>\n",
       "</table>\n",
       "<p>28911 rows × 3 columns</p>\n",
       "</div>"
      ],
      "text/plain": [
       "           prob pred real\n",
       "40308       NaN  NAO  NAO\n",
       "40309  0.978109  SIM  NAO\n",
       "40310       NaN  NAO  NAO\n",
       "40311  0.986592  SIM  NAO\n",
       "40312  0.988932  SIM  NAO\n",
       "40313  0.853750  SIM  NAO\n",
       "40314  0.989833  SIM  NAO\n",
       "40315  0.288750  NAO  NAO\n",
       "40316  0.780430  SIM  NAO\n",
       "40317  0.409276  NAO  NAO\n",
       "40318       NaN  NAO  NAO\n",
       "40319       NaN  NAO  NAO\n",
       "40320       NaN  NAO  NAO\n",
       "40321  0.754969  SIM  NAO\n",
       "40322       NaN  NAO  NAO\n",
       "40323  0.990621  SIM  NAO\n",
       "40324  0.970507  SIM  NAO\n",
       "40325       NaN  NAO  NAO\n",
       "40326       NaN  NAO  NAO\n",
       "40327       NaN  NAO  NAO\n",
       "40328       NaN  NAO  NAO\n",
       "40329  0.625777  NAO  NAO\n",
       "40330  0.062336  NAO  NAO\n",
       "40331  0.584992  NAO  NAO\n",
       "40332       NaN  NAO  NAO\n",
       "40333  0.215617  NAO  NAO\n",
       "40334  0.070842  NAO  NAO\n",
       "40335  0.965707  SIM  NAO\n",
       "40336  0.978167  SIM  NAO\n",
       "40337       NaN  NAO  NAO\n",
       "...         ...  ...  ...\n",
       "97801  0.997528  SIM  SIM\n",
       "97802  0.999264  SIM  SIM\n",
       "97803       NaN  NAO  SIM\n",
       "97804  0.994324  SIM  SIM\n",
       "97805       NaN  NAO  SIM\n",
       "97806  0.994871  SIM  SIM\n",
       "97807  0.874152  SIM  SIM\n",
       "97808  0.998116  SIM  SIM\n",
       "97809  0.987572  SIM  SIM\n",
       "97810       NaN  NAO  SIM\n",
       "97811       NaN  NAO  SIM\n",
       "97812  0.106736  NAO  SIM\n",
       "97813  0.997357  SIM  SIM\n",
       "97814  0.966404  SIM  SIM\n",
       "97815  0.607916  NAO  SIM\n",
       "97816  0.736728  SIM  SIM\n",
       "97817  0.999068  SIM  SIM\n",
       "97818  0.344212  NAO  SIM\n",
       "97819       NaN  NAO  SIM\n",
       "97820  0.984942  SIM  SIM\n",
       "97821       NaN  NAO  SIM\n",
       "97822  0.996290  SIM  SIM\n",
       "97823  0.075661  NAO  SIM\n",
       "97824  0.994576  SIM  SIM\n",
       "97825  0.998803  SIM  SIM\n",
       "97826  0.976529  SIM  SIM\n",
       "97827  0.926365  SIM  SIM\n",
       "97828  0.996313  SIM  SIM\n",
       "97829  0.143536  NAO  SIM\n",
       "97830       NaN  NAO  NaN\n",
       "\n",
       "[28911 rows x 3 columns]"
      ]
     },
     "execution_count": 38,
     "metadata": {},
     "output_type": "execute_result"
    }
   ],
   "source": [
    "df"
   ]
  },
  {
   "cell_type": "markdown",
   "metadata": {},
   "source": [
    "Podemos ainda sumarizar os resultados numa tabela de contigência, mostrando os acertos e erros do modelo."
   ]
  },
  {
   "cell_type": "code",
   "execution_count": 39,
   "metadata": {},
   "outputs": [
    {
     "data": {
      "text/html": [
       "<div>\n",
       "<style scoped>\n",
       "    .dataframe tbody tr th:only-of-type {\n",
       "        vertical-align: middle;\n",
       "    }\n",
       "\n",
       "    .dataframe tbody tr th {\n",
       "        vertical-align: top;\n",
       "    }\n",
       "\n",
       "    .dataframe thead th {\n",
       "        text-align: right;\n",
       "    }\n",
       "</style>\n",
       "<table border=\"1\" class=\"dataframe\">\n",
       "  <thead>\n",
       "    <tr style=\"text-align: right;\">\n",
       "      <th>real</th>\n",
       "      <th>NAO</th>\n",
       "      <th>SIM</th>\n",
       "    </tr>\n",
       "    <tr>\n",
       "      <th>pred</th>\n",
       "      <th></th>\n",
       "      <th></th>\n",
       "    </tr>\n",
       "  </thead>\n",
       "  <tbody>\n",
       "    <tr>\n",
       "      <th>NAO</th>\n",
       "      <td>10615</td>\n",
       "      <td>4254</td>\n",
       "    </tr>\n",
       "    <tr>\n",
       "      <th>SIM</th>\n",
       "      <td>4264</td>\n",
       "      <td>9776</td>\n",
       "    </tr>\n",
       "  </tbody>\n",
       "</table>\n",
       "</div>"
      ],
      "text/plain": [
       "real    NAO   SIM\n",
       "pred             \n",
       "NAO   10615  4254\n",
       "SIM    4264  9776"
      ]
     },
     "execution_count": 39,
     "metadata": {},
     "output_type": "execute_result"
    }
   ],
   "source": [
    "pd.crosstab(df.pred,df.real)"
   ]
  },
  {
   "cell_type": "markdown",
   "metadata": {},
   "source": [
    "Essa tabela é conhecida como tabela de contingência. A diagonal principal mostra os acertos do modelo, enquanto a secundária mostra os erros. Os exemplos que eram realmente maus e foram classificados como tal são chamados de verdadeiros positivos (TP), já os bons classificados corretamente são chamados de verdadeiros negativos (TN). Os bons classificados de maus são chamados de falsos positivos (FP) e os maus classificados de bons são falsos negativos.\n",
    "\n",
    "A acurácia do modelo é a proporção de acertos que o modelo teve. Além dessa métrica, outras duas métricas de qualidade são sensitividade e especificidade que revelam a capacidade do modelo de classificar corretamente os exemplos que eram positivos (maus) e os que eram negativos (bons).\n",
    "\n",
    "\n",
    "\n",
    "Dessa forma, podemos avaliar a qualidade do nosso modelo."
   ]
  },
  {
   "cell_type": "markdown",
   "metadata": {},
   "source": [
    "<strong>MODELO BASE</strong>"
   ]
  },
  {
   "cell_type": "code",
   "execution_count": 40,
   "metadata": {},
   "outputs": [
    {
     "name": "stdout",
     "output_type": "stream",
     "text": [
      "acc= 0.705, sen=0.697, esp=0.713\n"
     ]
    }
   ],
   "source": [
    "tabcont = pd.crosstab(df.pred,df.real).values\n",
    "acc = np.sum(tabcont.diagonal())/teste.shape[0]\n",
    "sen = tabcont[1,1]/(tabcont[1,1]+tabcont[0,1])\n",
    "esp = tabcont[0,0]/(tabcont[0,0]+tabcont[1,0])\n",
    "\n",
    "print(\"acc= {:.3f}, sen={:.3f}, esp={:.3f}\".format(acc,sen,esp))"
   ]
  },
  {
   "cell_type": "markdown",
   "metadata": {},
   "source": [
    "Assim observamos que nosso <strong>modelo acertou 70%</strong> das classificações, sendo mais preciso com exemplos positivos <strong>(casos de internação), acertando 69%</strong>, que com exemplos negativos <strong>(casos de não-internação), acertando 71%.</strong>"
   ]
  },
  {
   "cell_type": "markdown",
   "metadata": {},
   "source": [
    "## Outros modelos\n",
    "Como queremos acertar mais os casos de internação, vamos usar taxas de probabilidade de aceitação menores para ampliarmos o alcance do modelo aos casos de internação perdidos."
   ]
  },
  {
   "cell_type": "markdown",
   "metadata": {},
   "source": [
    "<strong>MODELO 1</strong>"
   ]
  },
  {
   "cell_type": "code",
   "execution_count": 41,
   "metadata": {},
   "outputs": [],
   "source": [
    "modelo1 = pd.DataFrame(dict(prob=model.predict(teste),\n",
    "                  pred=model.predict(teste).map(lambda x: x > 0.65 and 'SIM' or 'NAO'),\n",
    "                  real=teste.caso_internacao))"
   ]
  },
  {
   "cell_type": "code",
   "execution_count": 42,
   "metadata": {},
   "outputs": [
    {
     "data": {
      "text/html": [
       "<div>\n",
       "<style scoped>\n",
       "    .dataframe tbody tr th:only-of-type {\n",
       "        vertical-align: middle;\n",
       "    }\n",
       "\n",
       "    .dataframe tbody tr th {\n",
       "        vertical-align: top;\n",
       "    }\n",
       "\n",
       "    .dataframe thead th {\n",
       "        text-align: right;\n",
       "    }\n",
       "</style>\n",
       "<table border=\"1\" class=\"dataframe\">\n",
       "  <thead>\n",
       "    <tr style=\"text-align: right;\">\n",
       "      <th>real</th>\n",
       "      <th>NAO</th>\n",
       "      <th>SIM</th>\n",
       "    </tr>\n",
       "    <tr>\n",
       "      <th>pred</th>\n",
       "      <th></th>\n",
       "      <th></th>\n",
       "    </tr>\n",
       "  </thead>\n",
       "  <tbody>\n",
       "    <tr>\n",
       "      <th>NAO</th>\n",
       "      <td>10433</td>\n",
       "      <td>4126</td>\n",
       "    </tr>\n",
       "    <tr>\n",
       "      <th>SIM</th>\n",
       "      <td>4446</td>\n",
       "      <td>9904</td>\n",
       "    </tr>\n",
       "  </tbody>\n",
       "</table>\n",
       "</div>"
      ],
      "text/plain": [
       "real    NAO   SIM\n",
       "pred             \n",
       "NAO   10433  4126\n",
       "SIM    4446  9904"
      ]
     },
     "execution_count": 42,
     "metadata": {},
     "output_type": "execute_result"
    }
   ],
   "source": [
    "pd.crosstab(modelo1.pred,modelo1.real)"
   ]
  },
  {
   "cell_type": "code",
   "execution_count": 43,
   "metadata": {},
   "outputs": [
    {
     "name": "stdout",
     "output_type": "stream",
     "text": [
      "acc= 0.703, sen=0.706, esp=0.701\n"
     ]
    }
   ],
   "source": [
    "tabcont = pd.crosstab(modelo1.pred,modelo1.real).values\n",
    "acc = np.sum(tabcont.diagonal())/teste.shape[0]\n",
    "sen = tabcont[1,1]/(tabcont[1,1]+tabcont[0,1])\n",
    "esp = tabcont[0,0]/(tabcont[0,0]+tabcont[1,0])\n",
    "\n",
    "print(\"acc= {:.3f}, sen={:.3f}, esp={:.3f}\".format(acc,sen,esp))"
   ]
  },
  {
   "cell_type": "markdown",
   "metadata": {},
   "source": [
    "<strong>MODELO 2</strong>"
   ]
  },
  {
   "cell_type": "code",
   "execution_count": 46,
   "metadata": {},
   "outputs": [],
   "source": [
    "modelo2 = pd.DataFrame(dict(prob=model.predict(teste),\n",
    "                  pred=model.predict(teste).map(lambda x: x > 0.6 and 'SIM' or 'NAO'),\n",
    "                  real=teste.caso_internacao))"
   ]
  },
  {
   "cell_type": "code",
   "execution_count": 47,
   "metadata": {},
   "outputs": [
    {
     "data": {
      "text/html": [
       "<div>\n",
       "<style scoped>\n",
       "    .dataframe tbody tr th:only-of-type {\n",
       "        vertical-align: middle;\n",
       "    }\n",
       "\n",
       "    .dataframe tbody tr th {\n",
       "        vertical-align: top;\n",
       "    }\n",
       "\n",
       "    .dataframe thead th {\n",
       "        text-align: right;\n",
       "    }\n",
       "</style>\n",
       "<table border=\"1\" class=\"dataframe\">\n",
       "  <thead>\n",
       "    <tr style=\"text-align: right;\">\n",
       "      <th>real</th>\n",
       "      <th>NAO</th>\n",
       "      <th>SIM</th>\n",
       "    </tr>\n",
       "    <tr>\n",
       "      <th>pred</th>\n",
       "      <th></th>\n",
       "      <th></th>\n",
       "    </tr>\n",
       "  </thead>\n",
       "  <tbody>\n",
       "    <tr>\n",
       "      <th>NAO</th>\n",
       "      <td>10228</td>\n",
       "      <td>4038</td>\n",
       "    </tr>\n",
       "    <tr>\n",
       "      <th>SIM</th>\n",
       "      <td>4651</td>\n",
       "      <td>9992</td>\n",
       "    </tr>\n",
       "  </tbody>\n",
       "</table>\n",
       "</div>"
      ],
      "text/plain": [
       "real    NAO   SIM\n",
       "pred             \n",
       "NAO   10228  4038\n",
       "SIM    4651  9992"
      ]
     },
     "execution_count": 47,
     "metadata": {},
     "output_type": "execute_result"
    }
   ],
   "source": [
    "pd.crosstab(modelo2.pred,modelo2.real)"
   ]
  },
  {
   "cell_type": "code",
   "execution_count": 48,
   "metadata": {},
   "outputs": [
    {
     "name": "stdout",
     "output_type": "stream",
     "text": [
      "acc= 0.699, sen=0.712, esp=0.687\n"
     ]
    }
   ],
   "source": [
    "tabcont = pd.crosstab(modelo2.pred,modelo2.real).values\n",
    "acc = np.sum(tabcont.diagonal())/teste.shape[0]\n",
    "sen = tabcont[1,1]/(tabcont[1,1]+tabcont[0,1])\n",
    "esp = tabcont[0,0]/(tabcont[0,0]+tabcont[1,0])\n",
    "\n",
    "print(\"acc= {:.3f}, sen={:.3f}, esp={:.3f}\".format(acc,sen,esp))"
   ]
  },
  {
   "cell_type": "markdown",
   "metadata": {},
   "source": [
    "<strong>MODELO 3</strong>"
   ]
  },
  {
   "cell_type": "code",
   "execution_count": 49,
   "metadata": {},
   "outputs": [],
   "source": [
    "modelo3 = pd.DataFrame(dict(prob=model.predict(teste),\n",
    "                  pred=model.predict(teste).map(lambda x: x > 0.5 and 'SIM' or 'NAO'),\n",
    "                  real=teste.caso_internacao))"
   ]
  },
  {
   "cell_type": "code",
   "execution_count": 50,
   "metadata": {},
   "outputs": [
    {
     "data": {
      "text/html": [
       "<div>\n",
       "<style scoped>\n",
       "    .dataframe tbody tr th:only-of-type {\n",
       "        vertical-align: middle;\n",
       "    }\n",
       "\n",
       "    .dataframe tbody tr th {\n",
       "        vertical-align: top;\n",
       "    }\n",
       "\n",
       "    .dataframe thead th {\n",
       "        text-align: right;\n",
       "    }\n",
       "</style>\n",
       "<table border=\"1\" class=\"dataframe\">\n",
       "  <thead>\n",
       "    <tr style=\"text-align: right;\">\n",
       "      <th>real</th>\n",
       "      <th>NAO</th>\n",
       "      <th>SIM</th>\n",
       "    </tr>\n",
       "    <tr>\n",
       "      <th>pred</th>\n",
       "      <th></th>\n",
       "      <th></th>\n",
       "    </tr>\n",
       "  </thead>\n",
       "  <tbody>\n",
       "    <tr>\n",
       "      <th>NAO</th>\n",
       "      <td>9855</td>\n",
       "      <td>3861</td>\n",
       "    </tr>\n",
       "    <tr>\n",
       "      <th>SIM</th>\n",
       "      <td>5024</td>\n",
       "      <td>10169</td>\n",
       "    </tr>\n",
       "  </tbody>\n",
       "</table>\n",
       "</div>"
      ],
      "text/plain": [
       "real   NAO    SIM\n",
       "pred             \n",
       "NAO   9855   3861\n",
       "SIM   5024  10169"
      ]
     },
     "execution_count": 50,
     "metadata": {},
     "output_type": "execute_result"
    }
   ],
   "source": [
    "pd.crosstab(modelo3.pred,modelo3.real)"
   ]
  },
  {
   "cell_type": "code",
   "execution_count": 51,
   "metadata": {},
   "outputs": [
    {
     "name": "stdout",
     "output_type": "stream",
     "text": [
      "acc= 0.693, sen=0.725, esp=0.662\n"
     ]
    }
   ],
   "source": [
    "tabcont = pd.crosstab(modelo3.pred,modelo3.real).values\n",
    "acc = np.sum(tabcont.diagonal())/teste.shape[0]\n",
    "sen = tabcont[1,1]/(tabcont[1,1]+tabcont[0,1])\n",
    "esp = tabcont[0,0]/(tabcont[0,0]+tabcont[1,0])\n",
    "\n",
    "print(\"acc= {:.3f}, sen={:.3f}, esp={:.3f}\".format(acc,sen,esp))"
   ]
  },
  {
   "cell_type": "markdown",
   "metadata": {},
   "source": [
    "<strong>MODELO 4</strong>"
   ]
  },
  {
   "cell_type": "code",
   "execution_count": 52,
   "metadata": {},
   "outputs": [],
   "source": [
    "modelo4 = pd.DataFrame(dict(prob=model.predict(teste),\n",
    "                  pred=model.predict(teste).map(lambda x: x > 0.45 and 'SIM' or 'NAO'),\n",
    "                  real=teste.caso_internacao))"
   ]
  },
  {
   "cell_type": "code",
   "execution_count": 53,
   "metadata": {},
   "outputs": [
    {
     "data": {
      "text/html": [
       "<div>\n",
       "<style scoped>\n",
       "    .dataframe tbody tr th:only-of-type {\n",
       "        vertical-align: middle;\n",
       "    }\n",
       "\n",
       "    .dataframe tbody tr th {\n",
       "        vertical-align: top;\n",
       "    }\n",
       "\n",
       "    .dataframe thead th {\n",
       "        text-align: right;\n",
       "    }\n",
       "</style>\n",
       "<table border=\"1\" class=\"dataframe\">\n",
       "  <thead>\n",
       "    <tr style=\"text-align: right;\">\n",
       "      <th>real</th>\n",
       "      <th>NAO</th>\n",
       "      <th>SIM</th>\n",
       "    </tr>\n",
       "    <tr>\n",
       "      <th>pred</th>\n",
       "      <th></th>\n",
       "      <th></th>\n",
       "    </tr>\n",
       "  </thead>\n",
       "  <tbody>\n",
       "    <tr>\n",
       "      <th>NAO</th>\n",
       "      <td>9682</td>\n",
       "      <td>3733</td>\n",
       "    </tr>\n",
       "    <tr>\n",
       "      <th>SIM</th>\n",
       "      <td>5197</td>\n",
       "      <td>10297</td>\n",
       "    </tr>\n",
       "  </tbody>\n",
       "</table>\n",
       "</div>"
      ],
      "text/plain": [
       "real   NAO    SIM\n",
       "pred             \n",
       "NAO   9682   3733\n",
       "SIM   5197  10297"
      ]
     },
     "execution_count": 53,
     "metadata": {},
     "output_type": "execute_result"
    }
   ],
   "source": [
    "pd.crosstab(modelo4.pred,modelo4.real)"
   ]
  },
  {
   "cell_type": "code",
   "execution_count": 54,
   "metadata": {},
   "outputs": [
    {
     "name": "stdout",
     "output_type": "stream",
     "text": [
      "acc= 0.691, sen=0.734, esp=0.651\n"
     ]
    }
   ],
   "source": [
    "tabcont = pd.crosstab(modelo4.pred,modelo4.real).values\n",
    "acc = np.sum(tabcont.diagonal())/teste.shape[0]\n",
    "sen = tabcont[1,1]/(tabcont[1,1]+tabcont[0,1])\n",
    "esp = tabcont[0,0]/(tabcont[0,0]+tabcont[1,0])\n",
    "\n",
    "print(\"acc= {:.3f}, sen={:.3f}, esp={:.3f}\".format(acc,sen,esp))"
   ]
  },
  {
   "cell_type": "markdown",
   "metadata": {},
   "source": [
    "<strong>MODELO 5</strong>"
   ]
  },
  {
   "cell_type": "code",
   "execution_count": 55,
   "metadata": {},
   "outputs": [],
   "source": [
    "modelo5 = pd.DataFrame(dict(prob=model.predict(teste),\n",
    "                  pred=model.predict(teste).map(lambda x: x > 0.3 and 'SIM' or 'NAO'),\n",
    "                  real=teste.caso_internacao))"
   ]
  },
  {
   "cell_type": "code",
   "execution_count": 56,
   "metadata": {},
   "outputs": [
    {
     "data": {
      "text/html": [
       "<div>\n",
       "<style scoped>\n",
       "    .dataframe tbody tr th:only-of-type {\n",
       "        vertical-align: middle;\n",
       "    }\n",
       "\n",
       "    .dataframe tbody tr th {\n",
       "        vertical-align: top;\n",
       "    }\n",
       "\n",
       "    .dataframe thead th {\n",
       "        text-align: right;\n",
       "    }\n",
       "</style>\n",
       "<table border=\"1\" class=\"dataframe\">\n",
       "  <thead>\n",
       "    <tr style=\"text-align: right;\">\n",
       "      <th>real</th>\n",
       "      <th>NAO</th>\n",
       "      <th>SIM</th>\n",
       "    </tr>\n",
       "    <tr>\n",
       "      <th>pred</th>\n",
       "      <th></th>\n",
       "      <th></th>\n",
       "    </tr>\n",
       "  </thead>\n",
       "  <tbody>\n",
       "    <tr>\n",
       "      <th>NAO</th>\n",
       "      <td>8829</td>\n",
       "      <td>3211</td>\n",
       "    </tr>\n",
       "    <tr>\n",
       "      <th>SIM</th>\n",
       "      <td>6050</td>\n",
       "      <td>10819</td>\n",
       "    </tr>\n",
       "  </tbody>\n",
       "</table>\n",
       "</div>"
      ],
      "text/plain": [
       "real   NAO    SIM\n",
       "pred             \n",
       "NAO   8829   3211\n",
       "SIM   6050  10819"
      ]
     },
     "execution_count": 56,
     "metadata": {},
     "output_type": "execute_result"
    }
   ],
   "source": [
    "pd.crosstab(modelo5.pred,modelo5.real)"
   ]
  },
  {
   "cell_type": "code",
   "execution_count": 57,
   "metadata": {},
   "outputs": [
    {
     "name": "stdout",
     "output_type": "stream",
     "text": [
      "acc= 0.680, sen=0.771, esp=0.593\n"
     ]
    }
   ],
   "source": [
    "tabcont = pd.crosstab(modelo5.pred,modelo5.real).values\n",
    "acc = np.sum(tabcont.diagonal())/teste.shape[0]\n",
    "sen = tabcont[1,1]/(tabcont[1,1]+tabcont[0,1])\n",
    "esp = tabcont[0,0]/(tabcont[0,0]+tabcont[1,0])\n",
    "\n",
    "print(\"acc= {:.3f}, sen={:.3f}, esp={:.3f}\".format(acc,sen,esp))"
   ]
  },
  {
   "cell_type": "markdown",
   "metadata": {},
   "source": [
    "<strong>MODELO 6</strong>"
   ]
  },
  {
   "cell_type": "code",
   "execution_count": 58,
   "metadata": {},
   "outputs": [],
   "source": [
    "modelo6 = pd.DataFrame(dict(prob=model.predict(teste),\n",
    "                  pred=model.predict(teste).map(lambda x: x > 0.25 and 'SIM' or 'NAO'),\n",
    "                  real=teste.caso_internacao))"
   ]
  },
  {
   "cell_type": "code",
   "execution_count": 59,
   "metadata": {},
   "outputs": [
    {
     "data": {
      "text/html": [
       "<div>\n",
       "<style scoped>\n",
       "    .dataframe tbody tr th:only-of-type {\n",
       "        vertical-align: middle;\n",
       "    }\n",
       "\n",
       "    .dataframe tbody tr th {\n",
       "        vertical-align: top;\n",
       "    }\n",
       "\n",
       "    .dataframe thead th {\n",
       "        text-align: right;\n",
       "    }\n",
       "</style>\n",
       "<table border=\"1\" class=\"dataframe\">\n",
       "  <thead>\n",
       "    <tr style=\"text-align: right;\">\n",
       "      <th>real</th>\n",
       "      <th>NAO</th>\n",
       "      <th>SIM</th>\n",
       "    </tr>\n",
       "    <tr>\n",
       "      <th>pred</th>\n",
       "      <th></th>\n",
       "      <th></th>\n",
       "    </tr>\n",
       "  </thead>\n",
       "  <tbody>\n",
       "    <tr>\n",
       "      <th>NAO</th>\n",
       "      <td>8443</td>\n",
       "      <td>2977</td>\n",
       "    </tr>\n",
       "    <tr>\n",
       "      <th>SIM</th>\n",
       "      <td>6436</td>\n",
       "      <td>11053</td>\n",
       "    </tr>\n",
       "  </tbody>\n",
       "</table>\n",
       "</div>"
      ],
      "text/plain": [
       "real   NAO    SIM\n",
       "pred             \n",
       "NAO   8443   2977\n",
       "SIM   6436  11053"
      ]
     },
     "execution_count": 59,
     "metadata": {},
     "output_type": "execute_result"
    }
   ],
   "source": [
    "pd.crosstab(modelo6.pred,modelo6.real)"
   ]
  },
  {
   "cell_type": "code",
   "execution_count": 60,
   "metadata": {},
   "outputs": [
    {
     "name": "stdout",
     "output_type": "stream",
     "text": [
      "acc= 0.674, sen=0.788, esp=0.567\n"
     ]
    }
   ],
   "source": [
    "tabcont = pd.crosstab(modelo6.pred,modelo6.real).values\n",
    "acc = np.sum(tabcont.diagonal())/teste.shape[0]\n",
    "sen = tabcont[1,1]/(tabcont[1,1]+tabcont[0,1])\n",
    "esp = tabcont[0,0]/(tabcont[0,0]+tabcont[1,0])\n",
    "\n",
    "print(\"acc= {:.3f}, sen={:.3f}, esp={:.3f}\".format(acc,sen,esp))"
   ]
  },
  {
   "cell_type": "markdown",
   "metadata": {},
   "source": [
    "<strong>MODELO 7</strong>"
   ]
  },
  {
   "cell_type": "code",
   "execution_count": 61,
   "metadata": {},
   "outputs": [],
   "source": [
    "modelo7 = pd.DataFrame(dict(prob=model.predict(teste),\n",
    "                  pred=model.predict(teste).map(lambda x: x > 0.2 and 'SIM' or 'NAO'),\n",
    "                  real=teste.caso_internacao))"
   ]
  },
  {
   "cell_type": "code",
   "execution_count": 62,
   "metadata": {},
   "outputs": [
    {
     "data": {
      "text/html": [
       "<div>\n",
       "<style scoped>\n",
       "    .dataframe tbody tr th:only-of-type {\n",
       "        vertical-align: middle;\n",
       "    }\n",
       "\n",
       "    .dataframe tbody tr th {\n",
       "        vertical-align: top;\n",
       "    }\n",
       "\n",
       "    .dataframe thead th {\n",
       "        text-align: right;\n",
       "    }\n",
       "</style>\n",
       "<table border=\"1\" class=\"dataframe\">\n",
       "  <thead>\n",
       "    <tr style=\"text-align: right;\">\n",
       "      <th>real</th>\n",
       "      <th>NAO</th>\n",
       "      <th>SIM</th>\n",
       "    </tr>\n",
       "    <tr>\n",
       "      <th>pred</th>\n",
       "      <th></th>\n",
       "      <th></th>\n",
       "    </tr>\n",
       "  </thead>\n",
       "  <tbody>\n",
       "    <tr>\n",
       "      <th>NAO</th>\n",
       "      <td>7937</td>\n",
       "      <td>2789</td>\n",
       "    </tr>\n",
       "    <tr>\n",
       "      <th>SIM</th>\n",
       "      <td>6942</td>\n",
       "      <td>11241</td>\n",
       "    </tr>\n",
       "  </tbody>\n",
       "</table>\n",
       "</div>"
      ],
      "text/plain": [
       "real   NAO    SIM\n",
       "pred             \n",
       "NAO   7937   2789\n",
       "SIM   6942  11241"
      ]
     },
     "execution_count": 62,
     "metadata": {},
     "output_type": "execute_result"
    }
   ],
   "source": [
    "pd.crosstab(modelo7.pred,modelo7.real)"
   ]
  },
  {
   "cell_type": "code",
   "execution_count": 63,
   "metadata": {},
   "outputs": [
    {
     "name": "stdout",
     "output_type": "stream",
     "text": [
      "acc= 0.663, sen=0.801, esp=0.533\n"
     ]
    }
   ],
   "source": [
    "tabcont = pd.crosstab(modelo7.pred,modelo7.real).values\n",
    "acc = np.sum(tabcont.diagonal())/teste.shape[0]\n",
    "sen = tabcont[1,1]/(tabcont[1,1]+tabcont[0,1])\n",
    "esp = tabcont[0,0]/(tabcont[0,0]+tabcont[1,0])\n",
    "\n",
    "print(\"acc= {:.3f}, sen={:.3f}, esp={:.3f}\".format(acc,sen,esp))"
   ]
  },
  {
   "cell_type": "markdown",
   "metadata": {},
   "source": [
    "## Conclusão - modelos"
   ]
  },
  {
   "cell_type": "markdown",
   "metadata": {},
   "source": [
    "<strong>Analisando os modelos criados podemos concluir que a taxa de aceitação, usada para classificar como casos de internação ou não, quanto menor for maior sera o acerto nos casos que precisam serem internados porem ha uma grande perda na acuracia dos casos que não precisam serem internados. Assim ajustamos a taxa de classificação de acordo com o objetivo que precisamos alcançar!</strong>"
   ]
  },
  {
   "cell_type": "code",
   "execution_count": null,
   "metadata": {},
   "outputs": [],
   "source": []
  }
 ],
 "metadata": {
  "kernelspec": {
   "display_name": "Python 3",
   "language": "python",
   "name": "python3"
  },
  "language_info": {
   "codemirror_mode": {
    "name": "ipython",
    "version": 3
   },
   "file_extension": ".py",
   "mimetype": "text/x-python",
   "name": "python",
   "nbconvert_exporter": "python",
   "pygments_lexer": "ipython3",
   "version": "3.6.5"
  }
 },
 "nbformat": 4,
 "nbformat_minor": 2
}
